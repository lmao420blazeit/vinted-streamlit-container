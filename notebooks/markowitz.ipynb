{
 "cells": [
  {
   "cell_type": "markdown",
   "metadata": {},
   "source": [
    "# A product basket optimization approach using Markowitz Portfolio Theory on Vinted dataset\n",
    "\n",
    "### Introduction to Modern Portfolio Theory\n",
    "\n",
    "Modern Portfolio Theory (MPT), introduced by Harry Markowitz in 1952, is a mathematical framework for constructing efficient investment portfolios. MPT is based on the idea that investors can construct portfolios that optimize expected return while minimizing risk.\n",
    "\n",
    "The efficient frontier represents the set of portfolios that offer the highest expected return for a given level of risk, or the lowest risk for a given level of expected return.\n",
    "\n",
    "### Key Assumptions\n",
    "\n",
    "- **Defining expected return**: The expected return of a portfolio is the weighted average of the expected returns of its individual assets.\n",
    "\n",
    "$E(R_p) = \\sum_{i=1}^{n} w_i \\cdot E(R_i)$\n",
    "\n",
    "Where:\n",
    "    - $E(R_p)$ is the expected return of the portfolio.\n",
    "    - $w_i$ is the weight of asset \\(i\\) in the portfolio.\n",
    "    - $E(R_i)$ is the expected return of asset $i$.\n",
    "\n",
    "- **Defining risk**: The proxy of risk in MPT is the variance of the portfolio.\n",
    "\n",
    "- **Diversification**: One of the key principles of MPT is diversification, which involves spreading investments across different asset classes with uncorrelated or negatively correlated returns.\n",
    "\n",
    "### Mathematical Formulation\n",
    "\n",
    "The optimization problem in MPT can be formulated as a quadratic programming problem to find the optimal portfolio weights that maximize the expected return for a given level of risk or minimize the risk for a given level of expected return, subject to certain constraints such as budget constraints and minimum or maximum weight constraints.\n",
    "\n",
    "$\\text{Maximize} \\quad E(R_p) = \\mathbf{w}^T \\mathbf{R}$\n",
    "\n",
    "$\n",
    "\\text{Subject to:} \\quad\n",
    "\\begin{cases}\n",
    "\\mathbf{w}^T \\mathbf{1} = 1 & \\text{(Budget constraint)} \\\\\n",
    "\\mathbf{w}^T \\mathbf{\\Sigma} \\mathbf{w} \\leq \\sigma^2 & \\text{(Risk constraint)} \\\\\n",
    "w_i \\geq 0 & \\text{(Non-negativity constraint)}\n",
    "\\end{cases}\n",
    "$\n",
    "\n",
    "Where:\n",
    "- $E(R_p)$ is the expected return of the portfolio.\n",
    "- $\\mathbf{w}$ is the vector of portfolio weights.\n",
    "- $\\mathbf{R}$ is the vector of expected returns of the assets.\n",
    "- $\\mathbf{\\Sigma}$ is the covariance matrix of asset returns.\n",
    "- $\\sigma^2$ is the target risk level.\n",
    "\n"
   ]
  },
  {
   "cell_type": "code",
   "execution_count": 2,
   "metadata": {},
   "outputs": [
    {
     "ename": "NameError",
     "evalue": "name 'pio' is not defined",
     "output_type": "error",
     "traceback": [
      "\u001b[1;31m---------------------------------------------------------------------------\u001b[0m",
      "\u001b[1;31mNameError\u001b[0m                                 Traceback (most recent call last)",
      "Cell \u001b[1;32mIn[2], line 12\u001b[0m\n\u001b[0;32m     10\u001b[0m \u001b[38;5;66;03m#import plotly.io as pio\u001b[39;00m\n\u001b[0;32m     11\u001b[0m \u001b[38;5;28;01mfrom\u001b[39;00m \u001b[38;5;21;01mplotly\u001b[39;00m\u001b[38;5;21;01m.\u001b[39;00m\u001b[38;5;21;01moffline\u001b[39;00m \u001b[38;5;28;01mimport\u001b[39;00m init_notebook_mode\n\u001b[1;32m---> 12\u001b[0m \u001b[43mpio\u001b[49m\u001b[38;5;241m.\u001b[39mrenderers\u001b[38;5;241m.\u001b[39mdefault \u001b[38;5;241m=\u001b[39m \u001b[38;5;124m'\u001b[39m\u001b[38;5;124miframe\u001b[39m\u001b[38;5;124m'\u001b[39m\n\u001b[0;32m     14\u001b[0m init_notebook_mode(connected\u001b[38;5;241m=\u001b[39m\u001b[38;5;28;01mTrue\u001b[39;00m)\n\u001b[0;32m     16\u001b[0m \u001b[38;5;28;01mdef\u001b[39;00m \u001b[38;5;21mload_credentials\u001b[39m(path \u001b[38;5;241m=\u001b[39m \u001b[38;5;124m\"\u001b[39m\u001b[38;5;124maws_rds_credentials.json\u001b[39m\u001b[38;5;124m\"\u001b[39m):\n",
      "\u001b[1;31mNameError\u001b[0m: name 'pio' is not defined"
     ]
    }
   ],
   "source": [
    "import pandas as pd\n",
    "from sqlalchemy import create_engine\n",
    "import os\n",
    "import json\n",
    "import matplotlib.pyplot as plt\n",
    "import plotly.express as px\n",
    "import plotly.graph_objects as go\n",
    "import numpy as np\n",
    "import seaborn as sns\n",
    "#import plotly.io as pio\n",
    "from plotly.offline import init_notebook_mode\n",
    "pio.renderers.default = 'iframe'\n",
    "\n",
    "init_notebook_mode(connected=True)\n",
    "\n",
    "def load_credentials(path = \"aws_rds_credentials.json\"):\n",
    "     with open(path, 'r') as file:\n",
    "          config = json.load(file)\n",
    "\n",
    "     # set up credentials\n",
    "     for key in config.keys():\n",
    "          os.environ[key] = config[key]\n",
    "\n",
    "     return\n",
    "\n",
    "time_interval = 30 #days\n",
    "\n",
    "load_credentials()\n",
    "\n",
    "aws_rds_url = f\"postgresql://{os.environ['user']}:{os.environ['password']}@{os.environ['host']}:{os.environ['port']}/{os.environ['database']}?sslmode=require\"\n",
    "\n",
    "engine = create_engine(aws_rds_url)\n",
    "sql_query = f\"\"\"WITH catalogs AS (\n",
    "                    SELECT catalog_id\n",
    "                    FROM public.tracking_staging\n",
    "                    WHERE date >= CURRENT_DATE - INTERVAL '{time_interval} days'\n",
    "                    GROUP BY catalog_id\n",
    "                    HAVING COUNT(DISTINCT date) > 15\n",
    "               )\n",
    "               SELECT PERCENTILE_DISC(0.5) WITHIN GROUP (ORDER BY price_numeric) as price, catalog_id, date\n",
    "               FROM public.tracking_staging \n",
    "               WHERE date >= CURRENT_DATE - INTERVAL '{time_interval} days'\n",
    "                    AND catalog_id IN (SELECT catalog_id FROM catalogs)\n",
    "               GROUP BY date, catalog_id\n",
    "               \"\"\"\n",
    "data = pd.read_sql(sql_query, engine)\n",
    "#data.index = data.date\n",
    "data"
   ]
  },
  {
   "cell_type": "markdown",
   "metadata": {},
   "source": [
    "Loading the melted dataframe into memory. \n",
    "\n",
    "Notice I used a CTE to select catalogs with meaningful representation (a minimum number of days threshold).\n",
    "\n",
    "These are the products we are going to analyze. Each product has a different selling price and volatility, as prices and quantities sold can vary accross time. For this first analyzes, the proxies of returns and risk we are using are product expected price and product price standard deviation."
   ]
  },
  {
   "cell_type": "code",
   "execution_count": null,
   "metadata": {},
   "outputs": [
    {
     "ename": "",
     "evalue": "",
     "output_type": "error",
     "traceback": [
      "\u001b[1;31mFailed to start the Kernel. \n",
      "\u001b[1;31mUnable to start Kernel 'Python 3.10.6' due to a timeout waiting for the ports to get used. \n",
      "\u001b[1;31mView Jupyter <a href='command:jupyter.viewOutput'>log</a> for further details."
     ]
    }
   ],
   "source": [
    "data = data.pivot_table(index = \"date\", columns=\"catalog_id\", values = \"price\")\n",
    "data.head(10)"
   ]
  },
  {
   "cell_type": "markdown",
   "metadata": {},
   "source": [
    "Notice there are several periods with no data for some products. We shall assume the median value in order to reduce central moments bias."
   ]
  },
  {
   "cell_type": "code",
   "execution_count": null,
   "metadata": {},
   "outputs": [
    {
     "ename": "",
     "evalue": "",
     "output_type": "error",
     "traceback": [
      "\u001b[1;31mFailed to start the Kernel. \n",
      "\u001b[1;31mUnable to start Kernel 'Python 3.10.6' due to a timeout waiting for the ports to get used. \n",
      "\u001b[1;31mView Jupyter <a href='command:jupyter.viewOutput'>log</a> for further details."
     ]
    }
   ],
   "source": [
    "from sklearn.impute import SimpleImputer\n",
    "imputer = SimpleImputer(strategy='median')\n",
    "\n",
    "\n",
    "for col in data.columns:\n",
    "    data[col] = imputer.fit_transform(data[col].values.reshape(-1, 1))\n",
    "\n",
    "plt.figure(figsize=(12, 8))\n",
    "plt.plot(data, alpha=.4)\n",
    "plt.xlabel('time')\n",
    "plt.ylabel('returns')"
   ]
  },
  {
   "cell_type": "markdown",
   "metadata": {},
   "source": [
    "Lets create several sample portfolios using the MPT formula and a generator function."
   ]
  },
  {
   "cell_type": "code",
   "execution_count": null,
   "metadata": {},
   "outputs": [
    {
     "ename": "",
     "evalue": "",
     "output_type": "error",
     "traceback": [
      "\u001b[1;31mFailed to start the Kernel. \n",
      "\u001b[1;31mUnable to start Kernel 'Python 3.10.6' due to a timeout waiting for the ports to get used. \n",
      "\u001b[1;31mView Jupyter <a href='command:jupyter.viewOutput'>log</a> for further details."
     ]
    }
   ],
   "source": [
    "var_matrix = data.cov()\n",
    "\n",
    "num_assets = len(data.columns)\n",
    "num_port = 5000\n",
    "\n",
    "port_weights = []\n",
    "port_returns = []\n",
    "port_volatility = []\n",
    "\n",
    "# generator function, creates an iterator over the number of portfolios we want to generate\n",
    "# its a better practice, specially if num_port -> inf\n",
    "def generate_random_portfolios(num_port):\n",
    "    num_assets = len(data.columns)\n",
    "    var_matrix = data.cov()\n",
    "\n",
    "    for _ in range(num_port):\n",
    "        # each asset has either value 0 or 1\n",
    "        weights = np.random.randint(0, 2, size=num_assets)\n",
    "        # the returns of the portfolio is the matrix multiplication between (weights,)*(,expected_returns)\n",
    "        returns = np.dot(weights, data.median())\n",
    "        # portfolio variance is the double sum of covariance between assets as in the formula\n",
    "        var = var_matrix.mul(weights, axis=0).mul(weights, axis=1).sum().sum()\n",
    "        std = np.sqrt(var)\n",
    "\n",
    "        yield weights, returns, std\n",
    "\n",
    "for weights, returns, volatility in generate_random_portfolios(num_port):\n",
    "    port_weights.append(weights)\n",
    "    port_returns.append(returns)\n",
    "    port_volatility.append(volatility)"
   ]
  },
  {
   "cell_type": "code",
   "execution_count": null,
   "metadata": {},
   "outputs": [
    {
     "ename": "",
     "evalue": "",
     "output_type": "error",
     "traceback": [
      "\u001b[1;31mFailed to start the Kernel. \n",
      "\u001b[1;31mUnable to start Kernel 'Python 3.10.6' due to a timeout waiting for the ports to get used. \n",
      "\u001b[1;31mView Jupyter <a href='command:jupyter.viewOutput'>log</a> for further details."
     ]
    }
   ],
   "source": [
    "new_data = {\"Revenue\": port_returns, \n",
    "            \"Volatility\": port_volatility}\n",
    "\n",
    "for counter, symbol in enumerate(data.columns.tolist()):\n",
    "    new_data[str(symbol)+'_weight'] = [w[counter] for w in port_weights]\n",
    "\n",
    "portfolio = pd.DataFrame(new_data)\n",
    "portfolio.head(10)"
   ]
  },
  {
   "cell_type": "code",
   "execution_count": null,
   "metadata": {},
   "outputs": [
    {
     "ename": "",
     "evalue": "",
     "output_type": "error",
     "traceback": [
      "\u001b[1;31mFailed to start the Kernel. \n",
      "\u001b[1;31mUnable to start Kernel 'Python 3.10.6' due to a timeout waiting for the ports to get used. \n",
      "\u001b[1;31mView Jupyter <a href='command:jupyter.viewOutput'>log</a> for further details."
     ]
    }
   ],
   "source": [
    "# Create heatmap using Plotly\n",
    "fig = go.Figure(data=go.Heatmap(\n",
    "    z=portfolio.drop(columns=[\"Revenue\", \"Volatility\"], axis = 1).head(50).values,\n",
    "    x=portfolio.drop(columns=[\"Revenue\", \"Volatility\"], axis = 1).head(50).columns,\n",
    "    y=portfolio.drop(columns=[\"Revenue\", \"Volatility\"], axis = 1).head(50).index,\n",
    "    colorscale='YlGnBu',\n",
    "    colorbar=dict(title='Number of products')\n",
    "))\n",
    "\n",
    "fig.update_layout(\n",
    "    title='Sparse matrix (product distribution across portfolios)',\n",
    "    xaxis_title='Catalog_id',\n",
    "    yaxis_title='Number of sample portfolios'\n",
    ")\n",
    "fig\n"
   ]
  },
  {
   "cell_type": "code",
   "execution_count": null,
   "metadata": {},
   "outputs": [
    {
     "ename": "",
     "evalue": "",
     "output_type": "error",
     "traceback": [
      "\u001b[1;31mFailed to start the Kernel. \n",
      "\u001b[1;31mUnable to start Kernel 'Python 3.10.6' due to a timeout waiting for the ports to get used. \n",
      "\u001b[1;31mView Jupyter <a href='command:jupyter.viewOutput'>log</a> for further details."
     ]
    }
   ],
   "source": [
    "portfolio[\"Sharpe\"] = portfolio[\"Revenue\"]/portfolio[\"Volatility\"]\n",
    "\n",
    "fig = px.scatter(\n",
    "    data_frame=portfolio,\n",
    "    x='Volatility',\n",
    "    y='Revenue',\n",
    "    color='Sharpe',\n",
    "    title='Scatter Plot of Portfolio',\n",
    "    labels={'Volatility': 'Volatility (std)', 'Revenue': 'Expected Returns', 'Sharpe': 'Sharpe Ratio'},\n",
    "    marginal_x='histogram',\n",
    "    marginal_y='histogram', \n",
    ")\n",
    "\n",
    "fig.update_layout(\n",
    "    width=1200,  \n",
    "    height=800,  \n",
    ")\n",
    "\n",
    "fig\n"
   ]
  },
  {
   "cell_type": "code",
   "execution_count": null,
   "metadata": {},
   "outputs": [
    {
     "ename": "",
     "evalue": "",
     "output_type": "error",
     "traceback": [
      "\u001b[1;31mFailed to start the Kernel. \n",
      "\u001b[1;31mUnable to start Kernel 'Python 3.10.6' due to a timeout waiting for the ports to get used. \n",
      "\u001b[1;31mView Jupyter <a href='command:jupyter.viewOutput'>log</a> for further details."
     ]
    }
   ],
   "source": [
    "histogram_trace = go.Histogram(\n",
    "    x=portfolio['Sharpe'],  # 'column_name' contains the data you want to plot\n",
    "    marker_color='skyblue',  # Optional: set color of bars\n",
    "    opacity=0.7,  # Optional: set opacity of bars\n",
    ")\n",
    "\n",
    "\n",
    "layout = go.Layout(\n",
    "    title='Distribution Plot',  # Set title of the plot\n",
    "    xaxis=dict(title='Sharpe'),  # Set label for x-axis\n",
    "    yaxis=dict(title='Frequency'),  # Set label for y-axis\n",
    ")\n",
    "\n",
    "fig = go.Figure(data=[histogram_trace], layout=layout)\n",
    "fig"
   ]
  },
  {
   "cell_type": "code",
   "execution_count": null,
   "metadata": {},
   "outputs": [
    {
     "ename": "",
     "evalue": "",
     "output_type": "error",
     "traceback": [
      "\u001b[1;31mFailed to start the Kernel. \n",
      "\u001b[1;31mUnable to start Kernel 'Python 3.10.6' due to a timeout waiting for the ports to get used. \n",
      "\u001b[1;31mView Jupyter <a href='command:jupyter.viewOutput'>log</a> for further details."
     ]
    }
   ],
   "source": [
    "z = portfolio.drop([\"Volatility\", \"Revenue\", \"Sharpe\"], axis=1).sum(axis = 1)\n",
    "\n",
    "fig = px.scatter(\n",
    "    data_frame=portfolio,\n",
    "    x=z,\n",
    "    y='Revenue',\n",
    "    color='Sharpe',\n",
    "    title='Revenue per Number of Articles',\n",
    "    labels={'Volatility': 'Volatility (std)', 'Revenue': 'Expected Returns', 'Sharpe': 'Sharpe Ratio'}\n",
    ")\n",
    "\n",
    "fig.update_layout(\n",
    "    width=1200,\n",
    "    height=800,\n",
    ")\n",
    "\n",
    "fig"
   ]
  },
  {
   "cell_type": "code",
   "execution_count": null,
   "metadata": {},
   "outputs": [
    {
     "ename": "",
     "evalue": "",
     "output_type": "error",
     "traceback": [
      "\u001b[1;31mFailed to start the Kernel. \n",
      "\u001b[1;31mUnable to start Kernel 'Python 3.10.6' due to a timeout waiting for the ports to get used. \n",
      "\u001b[1;31mView Jupyter <a href='command:jupyter.viewOutput'>log</a> for further details."
     ]
    }
   ],
   "source": [
    "scatter3d_trace = go.Scatter3d(\n",
    "    x=portfolio[\"Volatility\"],\n",
    "    y=portfolio[\"Revenue\"],\n",
    "    z=portfolio[\"Sharpe\"],\n",
    "    mode='markers',\n",
    "    marker=dict(\n",
    "        size=4,                    \n",
    "        color=portfolio[\"Sharpe\"],                   \n",
    "        colorscale='Viridis',      \n",
    "        opacity=0.8,\n",
    "        line=dict(width=0.5, color='black') \n",
    "    )\n",
    ")\n",
    "\n",
    "layout = go.Layout(\n",
    "    title='Overview of Sharpe, Volatility and Revenue',\n",
    "    scene=dict(\n",
    "        xaxis=dict(title='Volatility'),\n",
    "        yaxis=dict(title='Revenue'),\n",
    "        zaxis=dict(title='Sharpe')\n",
    "    )\n",
    ")\n",
    "\n",
    "fig = go.Figure(data=[scatter3d_trace], layout=layout)\n",
    "\n",
    "fig.update_layout(\n",
    "    width=1200,  \n",
    "    height=800,  \n",
    "    scene=dict(\n",
    "        xaxis=dict(title='Volatility €', tickfont=dict(size=10)),  # Adjust axis label font size\n",
    "        yaxis=dict(title='Revenue €', tickfont=dict(size=10)),      # Adjust axis label font size\n",
    "        zaxis=dict(title='Sharpe', tickfont=dict(size=10)),  # Adjust axis label font size\n",
    "        camera_eye=dict(x=1.2, y=1.2, z=1.2)  # Adjust camera position\n",
    "    ),\n",
    ")\n",
    "fig"
   ]
  },
  {
   "cell_type": "markdown",
   "metadata": {},
   "source": [
    "## Analysis of results"
   ]
  },
  {
   "cell_type": "code",
   "execution_count": null,
   "metadata": {},
   "outputs": [
    {
     "ename": "",
     "evalue": "",
     "output_type": "error",
     "traceback": [
      "\u001b[1;31mFailed to start the Kernel. \n",
      "\u001b[1;31mUnable to start Kernel 'Python 3.10.6' due to a timeout waiting for the ports to get used. \n",
      "\u001b[1;31mView Jupyter <a href='command:jupyter.viewOutput'>log</a> for further details."
     ]
    }
   ],
   "source": [
    "top_5_port = portfolio.sort_values(\"Sharpe\", ascending=False).reset_index(drop= True).head(5)\n",
    "top_5_port"
   ]
  },
  {
   "cell_type": "code",
   "execution_count": null,
   "metadata": {},
   "outputs": [
    {
     "ename": "",
     "evalue": "",
     "output_type": "error",
     "traceback": [
      "\u001b[1;31mFailed to start the Kernel. \n",
      "\u001b[1;31mUnable to start Kernel 'Python 3.10.6' due to a timeout waiting for the ports to get used. \n",
      "\u001b[1;31mView Jupyter <a href='command:jupyter.viewOutput'>log</a> for further details."
     ]
    }
   ],
   "source": [
    "# Create heatmap using Plotly\n",
    "fig = go.Figure(data=go.Heatmap(\n",
    "    z=top_5_port.drop(columns=[\"Revenue\", \"Volatility\", \"Sharpe\"], axis = 1).values,\n",
    "    x=top_5_port.drop(columns=[\"Revenue\", \"Volatility\", \"Sharpe\"], axis = 1).columns,\n",
    "    y=top_5_port.drop(columns=[\"Revenue\", \"Volatility\", \"Sharpe\"], axis = 1).index,\n",
    "    colorscale='YlGnBu',\n",
    "    colorbar=dict(title='Number of products')\n",
    "))\n",
    "\n",
    "fig.update_layout(\n",
    "    title='Top 5 portfolio composition',\n",
    "    xaxis_title='Catalog_id',\n",
    "    yaxis_title='Index'\n",
    ")\n",
    "fig"
   ]
  },
  {
   "cell_type": "code",
   "execution_count": null,
   "metadata": {},
   "outputs": [
    {
     "ename": "",
     "evalue": "",
     "output_type": "error",
     "traceback": [
      "\u001b[1;31mFailed to start the Kernel. \n",
      "\u001b[1;31mUnable to start Kernel 'Python 3.10.6' due to a timeout waiting for the ports to get used. \n",
      "\u001b[1;31mView Jupyter <a href='command:jupyter.viewOutput'>log</a> for further details."
     ]
    }
   ],
   "source": [
    "statistics = portfolio[[\"Revenue\", \"Volatility\", \"Sharpe\"]].describe()\n",
    "\n",
    "# Style the DataFrame\n",
    "styled_statistics = statistics.style \\\n",
    "    .format(\"{:.2f}\") \\\n",
    "    .set_caption(\"Statistics for Portfolio\") \\\n",
    "    .set_table_styles([{'selector': 'caption', 'props': [('color', 'red'), ('font-size', '16px')]}]) \n",
    "\n",
    "styled_statistics\n"
   ]
  }
 ],
 "metadata": {
  "kernelspec": {
   "display_name": "Python 3",
   "language": "python",
   "name": "python3"
  },
  "language_info": {
   "codemirror_mode": {
    "name": "ipython",
    "version": 3
   },
   "file_extension": ".py",
   "mimetype": "text/x-python",
   "name": "python",
   "nbconvert_exporter": "python",
   "pygments_lexer": "ipython3",
   "version": "3.10.6"
  }
 },
 "nbformat": 4,
 "nbformat_minor": 2
}
