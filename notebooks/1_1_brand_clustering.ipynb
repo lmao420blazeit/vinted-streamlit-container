{
 "cells": [
  {
   "cell_type": "code",
   "execution_count": 85,
   "metadata": {},
   "outputs": [
    {
     "data": {
      "text/html": [
       "<div>\n",
       "<style scoped>\n",
       "    .dataframe tbody tr th:only-of-type {\n",
       "        vertical-align: middle;\n",
       "    }\n",
       "\n",
       "    .dataframe tbody tr th {\n",
       "        vertical-align: top;\n",
       "    }\n",
       "\n",
       "    .dataframe thead th {\n",
       "        text-align: right;\n",
       "    }\n",
       "</style>\n",
       "<table border=\"1\" class=\"dataframe\">\n",
       "  <thead>\n",
       "    <tr style=\"text-align: right;\">\n",
       "      <th></th>\n",
       "      <th>brand_title</th>\n",
       "      <th>price_numeric</th>\n",
       "      <th>status</th>\n",
       "      <th>catalog_id</th>\n",
       "      <th>size_title</th>\n",
       "      <th>color1_id</th>\n",
       "    </tr>\n",
       "  </thead>\n",
       "  <tbody>\n",
       "    <tr>\n",
       "      <th>0</th>\n",
       "      <td>Oakley</td>\n",
       "      <td>65.0</td>\n",
       "      <td>Muito bom</td>\n",
       "      <td>98.0</td>\n",
       "      <td></td>\n",
       "      <td>1.0</td>\n",
       "    </tr>\n",
       "    <tr>\n",
       "      <th>1</th>\n",
       "      <td>Oakley</td>\n",
       "      <td>65.0</td>\n",
       "      <td>Muito bom</td>\n",
       "      <td>98.0</td>\n",
       "      <td></td>\n",
       "      <td>1.0</td>\n",
       "    </tr>\n",
       "    <tr>\n",
       "      <th>2</th>\n",
       "      <td>Oakley</td>\n",
       "      <td>70.0</td>\n",
       "      <td>Muito bom</td>\n",
       "      <td>98.0</td>\n",
       "      <td></td>\n",
       "      <td>3.0</td>\n",
       "    </tr>\n",
       "    <tr>\n",
       "      <th>3</th>\n",
       "      <td>Oakley</td>\n",
       "      <td>70.0</td>\n",
       "      <td>Novo sem etiquetas</td>\n",
       "      <td>98.0</td>\n",
       "      <td></td>\n",
       "      <td>1.0</td>\n",
       "    </tr>\n",
       "    <tr>\n",
       "      <th>4</th>\n",
       "      <td>Oakley</td>\n",
       "      <td>65.0</td>\n",
       "      <td>Muito bom</td>\n",
       "      <td>98.0</td>\n",
       "      <td></td>\n",
       "      <td>1.0</td>\n",
       "    </tr>\n",
       "    <tr>\n",
       "      <th>...</th>\n",
       "      <td>...</td>\n",
       "      <td>...</td>\n",
       "      <td>...</td>\n",
       "      <td>...</td>\n",
       "      <td>...</td>\n",
       "      <td>...</td>\n",
       "    </tr>\n",
       "    <tr>\n",
       "      <th>452435</th>\n",
       "      <td>Oakley</td>\n",
       "      <td>65.0</td>\n",
       "      <td>Novo sem etiquetas</td>\n",
       "      <td>98.0</td>\n",
       "      <td></td>\n",
       "      <td>1.0</td>\n",
       "    </tr>\n",
       "    <tr>\n",
       "      <th>452436</th>\n",
       "      <td>Oakley</td>\n",
       "      <td>70.0</td>\n",
       "      <td>Novo sem etiquetas</td>\n",
       "      <td>98.0</td>\n",
       "      <td></td>\n",
       "      <td>1.0</td>\n",
       "    </tr>\n",
       "    <tr>\n",
       "      <th>452437</th>\n",
       "      <td>Oakley</td>\n",
       "      <td>70.0</td>\n",
       "      <td>Novo sem etiquetas</td>\n",
       "      <td>98.0</td>\n",
       "      <td></td>\n",
       "      <td>9.0</td>\n",
       "    </tr>\n",
       "    <tr>\n",
       "      <th>452438</th>\n",
       "      <td>Oakley</td>\n",
       "      <td>70.0</td>\n",
       "      <td>Muito bom</td>\n",
       "      <td>98.0</td>\n",
       "      <td></td>\n",
       "      <td>2.0</td>\n",
       "    </tr>\n",
       "    <tr>\n",
       "      <th>452439</th>\n",
       "      <td>Lola Paris</td>\n",
       "      <td>2.0</td>\n",
       "      <td>Bom</td>\n",
       "      <td>1840.0</td>\n",
       "      <td>L / 40 / 12</td>\n",
       "      <td>9.0</td>\n",
       "    </tr>\n",
       "  </tbody>\n",
       "</table>\n",
       "<p>452440 rows × 6 columns</p>\n",
       "</div>"
      ],
      "text/plain": [
       "       brand_title  price_numeric  ...   size_title  color1_id\n",
       "0           Oakley           65.0  ...                     1.0\n",
       "1           Oakley           65.0  ...                     1.0\n",
       "2           Oakley           70.0  ...                     3.0\n",
       "3           Oakley           70.0  ...                     1.0\n",
       "4           Oakley           65.0  ...                     1.0\n",
       "...            ...            ...  ...          ...        ...\n",
       "452435      Oakley           65.0  ...                     1.0\n",
       "452436      Oakley           70.0  ...                     1.0\n",
       "452437      Oakley           70.0  ...                     9.0\n",
       "452438      Oakley           70.0  ...                     2.0\n",
       "452439  Lola Paris            2.0  ...  L / 40 / 12        9.0\n",
       "\n",
       "[452440 rows x 6 columns]"
      ]
     },
     "execution_count": 85,
     "metadata": {},
     "output_type": "execute_result"
    }
   ],
   "source": [
    "import pandas as pd\n",
    "from sqlalchemy import create_engine\n",
    "import os\n",
    "import json\n",
    "import matplotlib.pyplot as plt\n",
    "from sklearn.decomposition import PCA\n",
    "\n",
    "def load_credentials(path = \"aws_rds_credentials.json\"):\n",
    "     with open(path, 'r') as file:\n",
    "          config = json.load(file)\n",
    "\n",
    "     # set up credentials\n",
    "     for key in config.keys():\n",
    "          os.environ[key] = config[key]\n",
    "\n",
    "     return\n",
    "\n",
    "time_interval = 90 #days\n",
    "\n",
    "load_credentials()\n",
    "\n",
    "aws_rds_url = f\"postgresql://{os.environ['user']}:{os.environ['password']}@{os.environ['host']}:{os.environ['port']}/{os.environ['database']}?sslmode=require\"\n",
    "\n",
    "engine = create_engine(aws_rds_url)\n",
    "sql_query = f\"\"\"SELECT brand_title, price_numeric, status, catalog_id, size_title, color1_id\n",
    "               FROM public.tracking_staging \n",
    "               WHERE date >= CURRENT_DATE - INTERVAL '{time_interval} days'\n",
    "               \"\"\"\n",
    "data = pd.read_sql(sql_query, engine)\n",
    "data"
   ]
  },
  {
   "cell_type": "code",
   "execution_count": 86,
   "metadata": {},
   "outputs": [
    {
     "data": {
      "text/html": [
       "<div>\n",
       "<style scoped>\n",
       "    .dataframe tbody tr th:only-of-type {\n",
       "        vertical-align: middle;\n",
       "    }\n",
       "\n",
       "    .dataframe tbody tr th {\n",
       "        vertical-align: top;\n",
       "    }\n",
       "\n",
       "    .dataframe thead th {\n",
       "        text-align: right;\n",
       "    }\n",
       "</style>\n",
       "<table border=\"1\" class=\"dataframe\">\n",
       "  <thead>\n",
       "    <tr style=\"text-align: right;\">\n",
       "      <th></th>\n",
       "      <th>brand_title</th>\n",
       "      <th>count</th>\n",
       "      <th>std</th>\n",
       "      <th>median</th>\n",
       "      <th>sum</th>\n",
       "    </tr>\n",
       "  </thead>\n",
       "  <tbody>\n",
       "    <tr>\n",
       "      <th>0</th>\n",
       "      <td></td>\n",
       "      <td>1352</td>\n",
       "      <td>5.319588</td>\n",
       "      <td>4.0</td>\n",
       "      <td>6208.0</td>\n",
       "    </tr>\n",
       "    <tr>\n",
       "      <th>1</th>\n",
       "      <td>Bershka</td>\n",
       "      <td>215</td>\n",
       "      <td>4.204111</td>\n",
       "      <td>4.0</td>\n",
       "      <td>1047.0</td>\n",
       "    </tr>\n",
       "    <tr>\n",
       "      <th>2</th>\n",
       "      <td>Bizzbee</td>\n",
       "      <td>58</td>\n",
       "      <td>1.786553</td>\n",
       "      <td>2.0</td>\n",
       "      <td>176.0</td>\n",
       "    </tr>\n",
       "    <tr>\n",
       "      <th>3</th>\n",
       "      <td>Cache Cache</td>\n",
       "      <td>209</td>\n",
       "      <td>1.972354</td>\n",
       "      <td>3.0</td>\n",
       "      <td>770.0</td>\n",
       "    </tr>\n",
       "    <tr>\n",
       "      <th>4</th>\n",
       "      <td>Calvin Klein</td>\n",
       "      <td>70</td>\n",
       "      <td>3.550756</td>\n",
       "      <td>9.0</td>\n",
       "      <td>758.0</td>\n",
       "    </tr>\n",
       "    <tr>\n",
       "      <th>5</th>\n",
       "      <td>Camaïeu</td>\n",
       "      <td>354</td>\n",
       "      <td>0.894957</td>\n",
       "      <td>3.0</td>\n",
       "      <td>1096.0</td>\n",
       "    </tr>\n",
       "    <tr>\n",
       "      <th>6</th>\n",
       "      <td>Champion</td>\n",
       "      <td>59</td>\n",
       "      <td>1.476882</td>\n",
       "      <td>8.0</td>\n",
       "      <td>395.0</td>\n",
       "    </tr>\n",
       "    <tr>\n",
       "      <th>7</th>\n",
       "      <td>Costes</td>\n",
       "      <td>62</td>\n",
       "      <td>2.303057</td>\n",
       "      <td>4.0</td>\n",
       "      <td>268.0</td>\n",
       "    </tr>\n",
       "    <tr>\n",
       "      <th>8</th>\n",
       "      <td>Desigual</td>\n",
       "      <td>51</td>\n",
       "      <td>2.868080</td>\n",
       "      <td>12.0</td>\n",
       "      <td>606.0</td>\n",
       "    </tr>\n",
       "    <tr>\n",
       "      <th>9</th>\n",
       "      <td>Elisabetta Franchi</td>\n",
       "      <td>66</td>\n",
       "      <td>10.485021</td>\n",
       "      <td>49.0</td>\n",
       "      <td>3222.0</td>\n",
       "    </tr>\n",
       "    <tr>\n",
       "      <th>10</th>\n",
       "      <td>Ellesse</td>\n",
       "      <td>71</td>\n",
       "      <td>1.513720</td>\n",
       "      <td>3.0</td>\n",
       "      <td>229.0</td>\n",
       "    </tr>\n",
       "    <tr>\n",
       "      <th>11</th>\n",
       "      <td>Etam</td>\n",
       "      <td>77</td>\n",
       "      <td>2.359156</td>\n",
       "      <td>3.0</td>\n",
       "      <td>232.0</td>\n",
       "    </tr>\n",
       "    <tr>\n",
       "      <th>12</th>\n",
       "      <td>GUESS</td>\n",
       "      <td>190</td>\n",
       "      <td>5.087125</td>\n",
       "      <td>9.0</td>\n",
       "      <td>2071.0</td>\n",
       "    </tr>\n",
       "    <tr>\n",
       "      <th>13</th>\n",
       "      <td>Gémo</td>\n",
       "      <td>77</td>\n",
       "      <td>1.242201</td>\n",
       "      <td>3.0</td>\n",
       "      <td>252.0</td>\n",
       "    </tr>\n",
       "    <tr>\n",
       "      <th>14</th>\n",
       "      <td>H&amp;M</td>\n",
       "      <td>408</td>\n",
       "      <td>1.602649</td>\n",
       "      <td>3.0</td>\n",
       "      <td>1376.0</td>\n",
       "    </tr>\n",
       "    <tr>\n",
       "      <th>15</th>\n",
       "      <td>Hollister</td>\n",
       "      <td>119</td>\n",
       "      <td>2.471861</td>\n",
       "      <td>6.0</td>\n",
       "      <td>715.0</td>\n",
       "    </tr>\n",
       "    <tr>\n",
       "      <th>16</th>\n",
       "      <td>In Extenso</td>\n",
       "      <td>63</td>\n",
       "      <td>0.666667</td>\n",
       "      <td>1.0</td>\n",
       "      <td>98.0</td>\n",
       "    </tr>\n",
       "    <tr>\n",
       "      <th>17</th>\n",
       "      <td>Inconnu</td>\n",
       "      <td>52</td>\n",
       "      <td>2.217016</td>\n",
       "      <td>1.0</td>\n",
       "      <td>141.0</td>\n",
       "    </tr>\n",
       "    <tr>\n",
       "      <th>18</th>\n",
       "      <td>Jennyfer</td>\n",
       "      <td>257</td>\n",
       "      <td>1.107846</td>\n",
       "      <td>3.0</td>\n",
       "      <td>854.0</td>\n",
       "    </tr>\n",
       "    <tr>\n",
       "      <th>19</th>\n",
       "      <td>Kaporal</td>\n",
       "      <td>93</td>\n",
       "      <td>2.990909</td>\n",
       "      <td>5.0</td>\n",
       "      <td>497.0</td>\n",
       "    </tr>\n",
       "    <tr>\n",
       "      <th>20</th>\n",
       "      <td>Karl Lagerfeld</td>\n",
       "      <td>110</td>\n",
       "      <td>5.566011</td>\n",
       "      <td>38.0</td>\n",
       "      <td>4328.0</td>\n",
       "    </tr>\n",
       "    <tr>\n",
       "      <th>21</th>\n",
       "      <td>Kiabi</td>\n",
       "      <td>279</td>\n",
       "      <td>1.891407</td>\n",
       "      <td>4.0</td>\n",
       "      <td>1057.0</td>\n",
       "    </tr>\n",
       "    <tr>\n",
       "      <th>22</th>\n",
       "      <td>Levi's</td>\n",
       "      <td>262</td>\n",
       "      <td>4.829467</td>\n",
       "      <td>6.0</td>\n",
       "      <td>1965.0</td>\n",
       "    </tr>\n",
       "    <tr>\n",
       "      <th>23</th>\n",
       "      <td>Loavies</td>\n",
       "      <td>107</td>\n",
       "      <td>4.234028</td>\n",
       "      <td>8.0</td>\n",
       "      <td>983.0</td>\n",
       "    </tr>\n",
       "    <tr>\n",
       "      <th>24</th>\n",
       "      <td>Local</td>\n",
       "      <td>184</td>\n",
       "      <td>3.110005</td>\n",
       "      <td>4.0</td>\n",
       "      <td>828.0</td>\n",
       "    </tr>\n",
       "    <tr>\n",
       "      <th>25</th>\n",
       "      <td>Mango</td>\n",
       "      <td>166</td>\n",
       "      <td>3.990757</td>\n",
       "      <td>3.0</td>\n",
       "      <td>853.0</td>\n",
       "    </tr>\n",
       "    <tr>\n",
       "      <th>26</th>\n",
       "      <td>Marvel</td>\n",
       "      <td>51</td>\n",
       "      <td>0.140028</td>\n",
       "      <td>3.0</td>\n",
       "      <td>152.0</td>\n",
       "    </tr>\n",
       "    <tr>\n",
       "      <th>27</th>\n",
       "      <td>Mim</td>\n",
       "      <td>94</td>\n",
       "      <td>1.835147</td>\n",
       "      <td>3.0</td>\n",
       "      <td>389.0</td>\n",
       "    </tr>\n",
       "    <tr>\n",
       "      <th>28</th>\n",
       "      <td>Morgan</td>\n",
       "      <td>52</td>\n",
       "      <td>1.404985</td>\n",
       "      <td>4.0</td>\n",
       "      <td>193.0</td>\n",
       "    </tr>\n",
       "    <tr>\n",
       "      <th>29</th>\n",
       "      <td>Naf Naf</td>\n",
       "      <td>124</td>\n",
       "      <td>3.007585</td>\n",
       "      <td>5.0</td>\n",
       "      <td>675.0</td>\n",
       "    </tr>\n",
       "    <tr>\n",
       "      <th>30</th>\n",
       "      <td>Nike</td>\n",
       "      <td>334</td>\n",
       "      <td>4.823758</td>\n",
       "      <td>15.0</td>\n",
       "      <td>3907.0</td>\n",
       "    </tr>\n",
       "    <tr>\n",
       "      <th>31</th>\n",
       "      <td>ONLY</td>\n",
       "      <td>149</td>\n",
       "      <td>1.608041</td>\n",
       "      <td>5.0</td>\n",
       "      <td>690.0</td>\n",
       "    </tr>\n",
       "    <tr>\n",
       "      <th>32</th>\n",
       "      <td>Patrice Breal</td>\n",
       "      <td>58</td>\n",
       "      <td>1.468051</td>\n",
       "      <td>3.0</td>\n",
       "      <td>171.0</td>\n",
       "    </tr>\n",
       "    <tr>\n",
       "      <th>33</th>\n",
       "      <td>Pepe Jeans</td>\n",
       "      <td>142</td>\n",
       "      <td>0.552869</td>\n",
       "      <td>9.0</td>\n",
       "      <td>1232.0</td>\n",
       "    </tr>\n",
       "    <tr>\n",
       "      <th>34</th>\n",
       "      <td>Pimkie</td>\n",
       "      <td>189</td>\n",
       "      <td>1.946660</td>\n",
       "      <td>3.0</td>\n",
       "      <td>593.0</td>\n",
       "    </tr>\n",
       "    <tr>\n",
       "      <th>35</th>\n",
       "      <td>Primark</td>\n",
       "      <td>179</td>\n",
       "      <td>1.944962</td>\n",
       "      <td>3.0</td>\n",
       "      <td>679.0</td>\n",
       "    </tr>\n",
       "    <tr>\n",
       "      <th>36</th>\n",
       "      <td>Promod</td>\n",
       "      <td>87</td>\n",
       "      <td>1.531370</td>\n",
       "      <td>2.0</td>\n",
       "      <td>244.0</td>\n",
       "    </tr>\n",
       "    <tr>\n",
       "      <th>37</th>\n",
       "      <td>Pull &amp; Bear</td>\n",
       "      <td>147</td>\n",
       "      <td>2.457125</td>\n",
       "      <td>4.0</td>\n",
       "      <td>720.0</td>\n",
       "    </tr>\n",
       "    <tr>\n",
       "      <th>38</th>\n",
       "      <td>Puma</td>\n",
       "      <td>119</td>\n",
       "      <td>2.760073</td>\n",
       "      <td>3.0</td>\n",
       "      <td>564.0</td>\n",
       "    </tr>\n",
       "    <tr>\n",
       "      <th>39</th>\n",
       "      <td>Ralph Lauren</td>\n",
       "      <td>70</td>\n",
       "      <td>28.562992</td>\n",
       "      <td>14.0</td>\n",
       "      <td>2159.0</td>\n",
       "    </tr>\n",
       "    <tr>\n",
       "      <th>40</th>\n",
       "      <td>Shein</td>\n",
       "      <td>340</td>\n",
       "      <td>1.656320</td>\n",
       "      <td>4.0</td>\n",
       "      <td>1266.0</td>\n",
       "    </tr>\n",
       "    <tr>\n",
       "      <th>41</th>\n",
       "      <td>SoSoire</td>\n",
       "      <td>53</td>\n",
       "      <td>1.481379</td>\n",
       "      <td>4.0</td>\n",
       "      <td>149.0</td>\n",
       "    </tr>\n",
       "    <tr>\n",
       "      <th>42</th>\n",
       "      <td>Stradivarius</td>\n",
       "      <td>215</td>\n",
       "      <td>3.586797</td>\n",
       "      <td>3.0</td>\n",
       "      <td>979.0</td>\n",
       "    </tr>\n",
       "    <tr>\n",
       "      <th>43</th>\n",
       "      <td>Superdry</td>\n",
       "      <td>58</td>\n",
       "      <td>2.334413</td>\n",
       "      <td>4.0</td>\n",
       "      <td>304.0</td>\n",
       "    </tr>\n",
       "    <tr>\n",
       "      <th>44</th>\n",
       "      <td>The Rolling Stones</td>\n",
       "      <td>51</td>\n",
       "      <td>0.543049</td>\n",
       "      <td>8.0</td>\n",
       "      <td>400.0</td>\n",
       "    </tr>\n",
       "    <tr>\n",
       "      <th>45</th>\n",
       "      <td>Tommy Hilfiger</td>\n",
       "      <td>86</td>\n",
       "      <td>5.946467</td>\n",
       "      <td>5.0</td>\n",
       "      <td>757.0</td>\n",
       "    </tr>\n",
       "    <tr>\n",
       "      <th>46</th>\n",
       "      <td>Undiz</td>\n",
       "      <td>81</td>\n",
       "      <td>0.421637</td>\n",
       "      <td>4.0</td>\n",
       "      <td>312.0</td>\n",
       "    </tr>\n",
       "    <tr>\n",
       "      <th>47</th>\n",
       "      <td>Vero Moda</td>\n",
       "      <td>71</td>\n",
       "      <td>3.861433</td>\n",
       "      <td>10.0</td>\n",
       "      <td>533.0</td>\n",
       "    </tr>\n",
       "    <tr>\n",
       "      <th>48</th>\n",
       "      <td>Zara</td>\n",
       "      <td>606</td>\n",
       "      <td>2.354451</td>\n",
       "      <td>4.0</td>\n",
       "      <td>2886.0</td>\n",
       "    </tr>\n",
       "    <tr>\n",
       "      <th>49</th>\n",
       "      <td>adidas</td>\n",
       "      <td>194</td>\n",
       "      <td>4.605650</td>\n",
       "      <td>8.0</td>\n",
       "      <td>1548.0</td>\n",
       "    </tr>\n",
       "    <tr>\n",
       "      <th>50</th>\n",
       "      <td>sans marque</td>\n",
       "      <td>82</td>\n",
       "      <td>2.114923</td>\n",
       "      <td>5.0</td>\n",
       "      <td>283.0</td>\n",
       "    </tr>\n",
       "  </tbody>\n",
       "</table>\n",
       "</div>"
      ],
      "text/plain": [
       "           brand_title  count        std  median     sum\n",
       "0                        1352   5.319588     4.0  6208.0\n",
       "1              Bershka    215   4.204111     4.0  1047.0\n",
       "2              Bizzbee     58   1.786553     2.0   176.0\n",
       "3          Cache Cache    209   1.972354     3.0   770.0\n",
       "4         Calvin Klein     70   3.550756     9.0   758.0\n",
       "5              Camaïeu    354   0.894957     3.0  1096.0\n",
       "6             Champion     59   1.476882     8.0   395.0\n",
       "7               Costes     62   2.303057     4.0   268.0\n",
       "8             Desigual     51   2.868080    12.0   606.0\n",
       "9   Elisabetta Franchi     66  10.485021    49.0  3222.0\n",
       "10             Ellesse     71   1.513720     3.0   229.0\n",
       "11                Etam     77   2.359156     3.0   232.0\n",
       "12               GUESS    190   5.087125     9.0  2071.0\n",
       "13                Gémo     77   1.242201     3.0   252.0\n",
       "14                 H&M    408   1.602649     3.0  1376.0\n",
       "15           Hollister    119   2.471861     6.0   715.0\n",
       "16          In Extenso     63   0.666667     1.0    98.0\n",
       "17             Inconnu     52   2.217016     1.0   141.0\n",
       "18            Jennyfer    257   1.107846     3.0   854.0\n",
       "19             Kaporal     93   2.990909     5.0   497.0\n",
       "20      Karl Lagerfeld    110   5.566011    38.0  4328.0\n",
       "21               Kiabi    279   1.891407     4.0  1057.0\n",
       "22              Levi's    262   4.829467     6.0  1965.0\n",
       "23             Loavies    107   4.234028     8.0   983.0\n",
       "24               Local    184   3.110005     4.0   828.0\n",
       "25               Mango    166   3.990757     3.0   853.0\n",
       "26              Marvel     51   0.140028     3.0   152.0\n",
       "27                 Mim     94   1.835147     3.0   389.0\n",
       "28              Morgan     52   1.404985     4.0   193.0\n",
       "29             Naf Naf    124   3.007585     5.0   675.0\n",
       "30                Nike    334   4.823758    15.0  3907.0\n",
       "31                ONLY    149   1.608041     5.0   690.0\n",
       "32       Patrice Breal     58   1.468051     3.0   171.0\n",
       "33          Pepe Jeans    142   0.552869     9.0  1232.0\n",
       "34              Pimkie    189   1.946660     3.0   593.0\n",
       "35             Primark    179   1.944962     3.0   679.0\n",
       "36              Promod     87   1.531370     2.0   244.0\n",
       "37         Pull & Bear    147   2.457125     4.0   720.0\n",
       "38                Puma    119   2.760073     3.0   564.0\n",
       "39        Ralph Lauren     70  28.562992    14.0  2159.0\n",
       "40               Shein    340   1.656320     4.0  1266.0\n",
       "41             SoSoire     53   1.481379     4.0   149.0\n",
       "42        Stradivarius    215   3.586797     3.0   979.0\n",
       "43            Superdry     58   2.334413     4.0   304.0\n",
       "44  The Rolling Stones     51   0.543049     8.0   400.0\n",
       "45      Tommy Hilfiger     86   5.946467     5.0   757.0\n",
       "46               Undiz     81   0.421637     4.0   312.0\n",
       "47           Vero Moda     71   3.861433    10.0   533.0\n",
       "48                Zara    606   2.354451     4.0  2886.0\n",
       "49              adidas    194   4.605650     8.0  1548.0\n",
       "50         sans marque     82   2.114923     5.0   283.0"
      ]
     },
     "execution_count": 86,
     "metadata": {},
     "output_type": "execute_result"
    }
   ],
   "source": [
    "data2 = data[data[\"catalog_id\"] == data[\"catalog_id\"].value_counts().idxmax()]\n",
    "data2 = data2.groupby([\"brand_title\"])[\"price_numeric\"].agg([\"count\", \"std\", \"median\", \"sum\"])\n",
    "data2 = data2[data2[\"count\"] > 50]\n",
    "data2 = data2.reset_index()\n",
    "data2"
   ]
  },
  {
   "cell_type": "code",
   "execution_count": 99,
   "metadata": {},
   "outputs": [
    {
     "data": {
      "application/vnd.plotly.v1+json": {
       "config": {
        "plotlyServerURL": "https://plot.ly"
       },
       "data": [
        {
         "customdata": [
          [
           "",
           5.319588482921868,
           6208,
           1352
          ],
          [
           "Bershka",
           4.204110965600759,
           1047,
           215
          ],
          [
           "Bizzbee",
           1.7865532555133194,
           176,
           58
          ],
          [
           "Cache Cache",
           1.9723544778347573,
           770,
           209
          ],
          [
           "Calvin Klein",
           3.550755904708745,
           758,
           70
          ],
          [
           "Camaïeu",
           0.8949566961794089,
           1096,
           354
          ],
          [
           "Champion",
           1.4768820522108754,
           395,
           59
          ],
          [
           "Costes",
           2.303057081276808,
           268,
           62
          ],
          [
           "Desigual",
           2.868079907000706,
           606,
           51
          ],
          [
           "Elisabetta Franchi",
           10.485020950654526,
           3222,
           66
          ],
          [
           "Ellesse",
           1.5137199504965202,
           229,
           71
          ],
          [
           "Etam",
           2.3591563305415733,
           232,
           77
          ],
          [
           "GUESS",
           5.087124529519205,
           2071,
           190
          ],
          [
           "Gémo",
           1.2422005478009326,
           252,
           77
          ],
          [
           "H&M",
           1.6026487205323867,
           1376,
           408
          ],
          [
           "Hollister",
           2.4718612980098156,
           715,
           119
          ],
          [
           "In Extenso",
           0.6666666666666666,
           98,
           63
          ],
          [
           "Inconnu",
           2.2170156451952976,
           141,
           52
          ],
          [
           "Jennyfer",
           1.107845869612339,
           854,
           257
          ],
          [
           "Kaporal",
           2.9909087744141734,
           497,
           93
          ],
          [
           "Karl Lagerfeld",
           5.566011474695954,
           4328,
           110
          ],
          [
           "Kiabi",
           1.8914073948837689,
           1057,
           279
          ],
          [
           "Levi's",
           4.829467340118578,
           1965,
           262
          ],
          [
           "Loavies",
           4.234028460260083,
           983,
           107
          ],
          [
           "Local",
           3.1100050076392134,
           828,
           184
          ],
          [
           "Mango",
           3.9907569366406856,
           853,
           166
          ],
          [
           "Marvel",
           0.14002800840280102,
           152,
           51
          ],
          [
           "Mim",
           1.8351470822644746,
           389,
           94
          ],
          [
           "Morgan",
           1.4049846619990156,
           193,
           52
          ],
          [
           "Naf Naf",
           3.007585043583576,
           675,
           124
          ],
          [
           "Nike",
           4.823758171217895,
           3907,
           334
          ],
          [
           "ONLY",
           1.608041419430039,
           690,
           149
          ],
          [
           "Patrice Breal",
           1.4680505487867588,
           171,
           58
          ],
          [
           "Pepe Jeans",
           0.5528686732427165,
           1232,
           142
          ],
          [
           "Pimkie",
           1.9466600972348471,
           593,
           189
          ],
          [
           "Primark",
           1.9449617357191342,
           679,
           179
          ],
          [
           "Promod",
           1.5313702669221634,
           244,
           87
          ],
          [
           "Pull & Bear",
           2.457124652915772,
           720,
           147
          ],
          [
           "Puma",
           2.7600730304571237,
           564,
           119
          ],
          [
           "Ralph Lauren",
           28.562992025653706,
           2159,
           70
          ],
          [
           "Shein",
           1.6563204810680667,
           1266,
           340
          ],
          [
           "SoSoire",
           1.4813793438962541,
           149,
           53
          ],
          [
           "Stradivarius",
           3.58679749624505,
           979,
           215
          ],
          [
           "Superdry",
           2.3344133702975736,
           304,
           58
          ],
          [
           "The Rolling Stones",
           0.5430487646467064,
           400,
           51
          ],
          [
           "Tommy Hilfiger",
           5.9464666076821695,
           757,
           86
          ],
          [
           "Undiz",
           0.4216370213557838,
           312,
           81
          ],
          [
           "Vero Moda",
           3.8614328925806056,
           533,
           71
          ],
          [
           "Zara",
           2.3544514471292386,
           2886,
           606
          ],
          [
           "adidas",
           4.605649563911762,
           1548,
           194
          ],
          [
           "sans marque",
           2.114923102383935,
           283,
           82
          ]
         ],
         "hovertemplate": "Brand: %{customdata[0]}<br>Median: %{x:,.1f} <br>Count: %{y:,.0f}<br>Volume: %{customdata[2]:,.0f}<br>Std Dev: %{customdata[1]:,.0f}",
         "mode": "markers+text",
         "name": "Median vs Count",
         "text": [
          "",
          "Bershka",
          "Bizzbee",
          "Cache Cache",
          "Calvin Klein",
          "Camaïeu",
          "Champion",
          "Costes",
          "Desigual",
          "Elisabetta Franchi",
          "Ellesse",
          "Etam",
          "GUESS",
          "Gémo",
          "H&M",
          "Hollister",
          "In Extenso",
          "Inconnu",
          "Jennyfer",
          "Kaporal",
          "Karl Lagerfeld",
          "Kiabi",
          "Levi's",
          "Loavies",
          "Local",
          "Mango",
          "Marvel",
          "Mim",
          "Morgan",
          "Naf Naf",
          "Nike",
          "ONLY",
          "Patrice Breal",
          "Pepe Jeans",
          "Pimkie",
          "Primark",
          "Promod",
          "Pull & Bear",
          "Puma",
          "Ralph Lauren",
          "Shein",
          "SoSoire",
          "Stradivarius",
          "Superdry",
          "The Rolling Stones",
          "Tommy Hilfiger",
          "Undiz",
          "Vero Moda",
          "Zara",
          "adidas",
          "sans marque"
         ],
         "type": "scatter",
         "x": [
          4,
          4,
          2,
          3,
          9,
          3,
          8,
          4,
          12,
          49,
          3,
          3,
          9,
          3,
          3,
          6,
          1,
          1,
          3,
          5,
          38,
          4,
          6,
          8,
          4,
          3,
          3,
          3,
          4,
          5,
          15,
          5,
          3,
          9,
          3,
          3,
          2,
          4,
          3,
          14,
          4,
          4,
          3,
          4,
          8,
          5,
          4,
          10,
          4,
          8,
          5
         ],
         "xaxis": "x",
         "y": [
          1352,
          215,
          58,
          209,
          70,
          354,
          59,
          62,
          51,
          66,
          71,
          77,
          190,
          77,
          408,
          119,
          63,
          52,
          257,
          93,
          110,
          279,
          262,
          107,
          184,
          166,
          51,
          94,
          52,
          124,
          334,
          149,
          58,
          142,
          189,
          179,
          87,
          147,
          119,
          70,
          340,
          53,
          215,
          58,
          51,
          86,
          81,
          71,
          606,
          194,
          82
         ],
         "yaxis": "y"
        },
        {
         "customdata": [
          [
           "",
           5.319588482921868,
           6208,
           1352
          ],
          [
           "Bershka",
           4.204110965600759,
           1047,
           215
          ],
          [
           "Bizzbee",
           1.7865532555133194,
           176,
           58
          ],
          [
           "Cache Cache",
           1.9723544778347573,
           770,
           209
          ],
          [
           "Calvin Klein",
           3.550755904708745,
           758,
           70
          ],
          [
           "Camaïeu",
           0.8949566961794089,
           1096,
           354
          ],
          [
           "Champion",
           1.4768820522108754,
           395,
           59
          ],
          [
           "Costes",
           2.303057081276808,
           268,
           62
          ],
          [
           "Desigual",
           2.868079907000706,
           606,
           51
          ],
          [
           "Elisabetta Franchi",
           10.485020950654526,
           3222,
           66
          ],
          [
           "Ellesse",
           1.5137199504965202,
           229,
           71
          ],
          [
           "Etam",
           2.3591563305415733,
           232,
           77
          ],
          [
           "GUESS",
           5.087124529519205,
           2071,
           190
          ],
          [
           "Gémo",
           1.2422005478009326,
           252,
           77
          ],
          [
           "H&M",
           1.6026487205323867,
           1376,
           408
          ],
          [
           "Hollister",
           2.4718612980098156,
           715,
           119
          ],
          [
           "In Extenso",
           0.6666666666666666,
           98,
           63
          ],
          [
           "Inconnu",
           2.2170156451952976,
           141,
           52
          ],
          [
           "Jennyfer",
           1.107845869612339,
           854,
           257
          ],
          [
           "Kaporal",
           2.9909087744141734,
           497,
           93
          ],
          [
           "Karl Lagerfeld",
           5.566011474695954,
           4328,
           110
          ],
          [
           "Kiabi",
           1.8914073948837689,
           1057,
           279
          ],
          [
           "Levi's",
           4.829467340118578,
           1965,
           262
          ],
          [
           "Loavies",
           4.234028460260083,
           983,
           107
          ],
          [
           "Local",
           3.1100050076392134,
           828,
           184
          ],
          [
           "Mango",
           3.9907569366406856,
           853,
           166
          ],
          [
           "Marvel",
           0.14002800840280102,
           152,
           51
          ],
          [
           "Mim",
           1.8351470822644746,
           389,
           94
          ],
          [
           "Morgan",
           1.4049846619990156,
           193,
           52
          ],
          [
           "Naf Naf",
           3.007585043583576,
           675,
           124
          ],
          [
           "Nike",
           4.823758171217895,
           3907,
           334
          ],
          [
           "ONLY",
           1.608041419430039,
           690,
           149
          ],
          [
           "Patrice Breal",
           1.4680505487867588,
           171,
           58
          ],
          [
           "Pepe Jeans",
           0.5528686732427165,
           1232,
           142
          ],
          [
           "Pimkie",
           1.9466600972348471,
           593,
           189
          ],
          [
           "Primark",
           1.9449617357191342,
           679,
           179
          ],
          [
           "Promod",
           1.5313702669221634,
           244,
           87
          ],
          [
           "Pull & Bear",
           2.457124652915772,
           720,
           147
          ],
          [
           "Puma",
           2.7600730304571237,
           564,
           119
          ],
          [
           "Ralph Lauren",
           28.562992025653706,
           2159,
           70
          ],
          [
           "Shein",
           1.6563204810680667,
           1266,
           340
          ],
          [
           "SoSoire",
           1.4813793438962541,
           149,
           53
          ],
          [
           "Stradivarius",
           3.58679749624505,
           979,
           215
          ],
          [
           "Superdry",
           2.3344133702975736,
           304,
           58
          ],
          [
           "The Rolling Stones",
           0.5430487646467064,
           400,
           51
          ],
          [
           "Tommy Hilfiger",
           5.9464666076821695,
           757,
           86
          ],
          [
           "Undiz",
           0.4216370213557838,
           312,
           81
          ],
          [
           "Vero Moda",
           3.8614328925806056,
           533,
           71
          ],
          [
           "Zara",
           2.3544514471292386,
           2886,
           606
          ],
          [
           "adidas",
           4.605649563911762,
           1548,
           194
          ],
          [
           "sans marque",
           2.114923102383935,
           283,
           82
          ]
         ],
         "hovertemplate": "Brand: %{customdata[0]}<br>Median: %{x:,.1f} <br>Count: %{y:,.0f}<br>Volume: %{customdata[2]:,.0f}<br>Std Dev: %{customdata[1]:,.0f}",
         "mode": "markers",
         "name": "Median vs Standard Dev.",
         "type": "scatter",
         "x": [
          4,
          4,
          2,
          3,
          9,
          3,
          8,
          4,
          12,
          49,
          3,
          3,
          9,
          3,
          3,
          6,
          1,
          1,
          3,
          5,
          38,
          4,
          6,
          8,
          4,
          3,
          3,
          3,
          4,
          5,
          15,
          5,
          3,
          9,
          3,
          3,
          2,
          4,
          3,
          14,
          4,
          4,
          3,
          4,
          8,
          5,
          4,
          10,
          4,
          8,
          5
         ],
         "xaxis": "x2",
         "y": [
          5.319588482921868,
          4.204110965600759,
          1.7865532555133194,
          1.9723544778347573,
          3.550755904708745,
          0.8949566961794089,
          1.4768820522108754,
          2.303057081276808,
          2.868079907000706,
          10.485020950654526,
          1.5137199504965202,
          2.3591563305415733,
          5.087124529519205,
          1.2422005478009326,
          1.6026487205323867,
          2.4718612980098156,
          0.6666666666666666,
          2.2170156451952976,
          1.107845869612339,
          2.9909087744141734,
          5.566011474695954,
          1.8914073948837689,
          4.829467340118578,
          4.234028460260083,
          3.1100050076392134,
          3.9907569366406856,
          0.14002800840280102,
          1.8351470822644746,
          1.4049846619990156,
          3.007585043583576,
          4.823758171217895,
          1.608041419430039,
          1.4680505487867588,
          0.5528686732427165,
          1.9466600972348471,
          1.9449617357191342,
          1.5313702669221634,
          2.457124652915772,
          2.7600730304571237,
          28.562992025653706,
          1.6563204810680667,
          1.4813793438962541,
          3.58679749624505,
          2.3344133702975736,
          0.5430487646467064,
          5.9464666076821695,
          0.4216370213557838,
          3.8614328925806056,
          2.3544514471292386,
          4.605649563911762,
          2.114923102383935
         ],
         "yaxis": "y2"
        },
        {
         "customdata": [
          [
           "",
           5.319588482921868,
           6208,
           1352
          ],
          [
           "Bershka",
           4.204110965600759,
           1047,
           215
          ],
          [
           "Bizzbee",
           1.7865532555133194,
           176,
           58
          ],
          [
           "Cache Cache",
           1.9723544778347573,
           770,
           209
          ],
          [
           "Calvin Klein",
           3.550755904708745,
           758,
           70
          ],
          [
           "Camaïeu",
           0.8949566961794089,
           1096,
           354
          ],
          [
           "Champion",
           1.4768820522108754,
           395,
           59
          ],
          [
           "Costes",
           2.303057081276808,
           268,
           62
          ],
          [
           "Desigual",
           2.868079907000706,
           606,
           51
          ],
          [
           "Elisabetta Franchi",
           10.485020950654526,
           3222,
           66
          ],
          [
           "Ellesse",
           1.5137199504965202,
           229,
           71
          ],
          [
           "Etam",
           2.3591563305415733,
           232,
           77
          ],
          [
           "GUESS",
           5.087124529519205,
           2071,
           190
          ],
          [
           "Gémo",
           1.2422005478009326,
           252,
           77
          ],
          [
           "H&M",
           1.6026487205323867,
           1376,
           408
          ],
          [
           "Hollister",
           2.4718612980098156,
           715,
           119
          ],
          [
           "In Extenso",
           0.6666666666666666,
           98,
           63
          ],
          [
           "Inconnu",
           2.2170156451952976,
           141,
           52
          ],
          [
           "Jennyfer",
           1.107845869612339,
           854,
           257
          ],
          [
           "Kaporal",
           2.9909087744141734,
           497,
           93
          ],
          [
           "Karl Lagerfeld",
           5.566011474695954,
           4328,
           110
          ],
          [
           "Kiabi",
           1.8914073948837689,
           1057,
           279
          ],
          [
           "Levi's",
           4.829467340118578,
           1965,
           262
          ],
          [
           "Loavies",
           4.234028460260083,
           983,
           107
          ],
          [
           "Local",
           3.1100050076392134,
           828,
           184
          ],
          [
           "Mango",
           3.9907569366406856,
           853,
           166
          ],
          [
           "Marvel",
           0.14002800840280102,
           152,
           51
          ],
          [
           "Mim",
           1.8351470822644746,
           389,
           94
          ],
          [
           "Morgan",
           1.4049846619990156,
           193,
           52
          ],
          [
           "Naf Naf",
           3.007585043583576,
           675,
           124
          ],
          [
           "Nike",
           4.823758171217895,
           3907,
           334
          ],
          [
           "ONLY",
           1.608041419430039,
           690,
           149
          ],
          [
           "Patrice Breal",
           1.4680505487867588,
           171,
           58
          ],
          [
           "Pepe Jeans",
           0.5528686732427165,
           1232,
           142
          ],
          [
           "Pimkie",
           1.9466600972348471,
           593,
           189
          ],
          [
           "Primark",
           1.9449617357191342,
           679,
           179
          ],
          [
           "Promod",
           1.5313702669221634,
           244,
           87
          ],
          [
           "Pull & Bear",
           2.457124652915772,
           720,
           147
          ],
          [
           "Puma",
           2.7600730304571237,
           564,
           119
          ],
          [
           "Ralph Lauren",
           28.562992025653706,
           2159,
           70
          ],
          [
           "Shein",
           1.6563204810680667,
           1266,
           340
          ],
          [
           "SoSoire",
           1.4813793438962541,
           149,
           53
          ],
          [
           "Stradivarius",
           3.58679749624505,
           979,
           215
          ],
          [
           "Superdry",
           2.3344133702975736,
           304,
           58
          ],
          [
           "The Rolling Stones",
           0.5430487646467064,
           400,
           51
          ],
          [
           "Tommy Hilfiger",
           5.9464666076821695,
           757,
           86
          ],
          [
           "Undiz",
           0.4216370213557838,
           312,
           81
          ],
          [
           "Vero Moda",
           3.8614328925806056,
           533,
           71
          ],
          [
           "Zara",
           2.3544514471292386,
           2886,
           606
          ],
          [
           "adidas",
           4.605649563911762,
           1548,
           194
          ],
          [
           "sans marque",
           2.114923102383935,
           283,
           82
          ]
         ],
         "hovertemplate": "Brand: %{customdata[0]}<br>Median: %{x:,.1f} <br>Count: %{y:,.0f}<br>Volume: %{customdata[2]:,.0f}<br>Std Dev: %{customdata[1]:,.0f}",
         "mode": "markers",
         "name": "Median vs Total Volume",
         "type": "scatter",
         "x": [
          4,
          4,
          2,
          3,
          9,
          3,
          8,
          4,
          12,
          49,
          3,
          3,
          9,
          3,
          3,
          6,
          1,
          1,
          3,
          5,
          38,
          4,
          6,
          8,
          4,
          3,
          3,
          3,
          4,
          5,
          15,
          5,
          3,
          9,
          3,
          3,
          2,
          4,
          3,
          14,
          4,
          4,
          3,
          4,
          8,
          5,
          4,
          10,
          4,
          8,
          5
         ],
         "xaxis": "x3",
         "y": [
          6208,
          1047,
          176,
          770,
          758,
          1096,
          395,
          268,
          606,
          3222,
          229,
          232,
          2071,
          252,
          1376,
          715,
          98,
          141,
          854,
          497,
          4328,
          1057,
          1965,
          983,
          828,
          853,
          152,
          389,
          193,
          675,
          3907,
          690,
          171,
          1232,
          593,
          679,
          244,
          720,
          564,
          2159,
          1266,
          149,
          979,
          304,
          400,
          757,
          312,
          533,
          2886,
          1548,
          283
         ],
         "yaxis": "y3"
        }
       ],
       "layout": {
        "annotations": [
         {
          "font": {
           "size": 16
          },
          "showarrow": false,
          "text": "Median vs Count",
          "x": 0.14444444444444446,
          "xanchor": "center",
          "xref": "paper",
          "y": 1,
          "yanchor": "bottom",
          "yref": "paper"
         },
         {
          "font": {
           "size": 16
          },
          "showarrow": false,
          "text": "Median vs Standard Dev.",
          "x": 0.5,
          "xanchor": "center",
          "xref": "paper",
          "y": 1,
          "yanchor": "bottom",
          "yref": "paper"
         },
         {
          "font": {
           "size": 16
          },
          "showarrow": false,
          "text": "Median vs Total Volume",
          "x": 0.8555555555555556,
          "xanchor": "center",
          "xref": "paper",
          "y": 1,
          "yanchor": "bottom",
          "yref": "paper"
         }
        ],
        "height": 500,
        "showlegend": false,
        "template": {
         "data": {
          "bar": [
           {
            "error_x": {
             "color": "#2a3f5f"
            },
            "error_y": {
             "color": "#2a3f5f"
            },
            "marker": {
             "line": {
              "color": "#E5ECF6",
              "width": 0.5
             },
             "pattern": {
              "fillmode": "overlay",
              "size": 10,
              "solidity": 0.2
             }
            },
            "type": "bar"
           }
          ],
          "barpolar": [
           {
            "marker": {
             "line": {
              "color": "#E5ECF6",
              "width": 0.5
             },
             "pattern": {
              "fillmode": "overlay",
              "size": 10,
              "solidity": 0.2
             }
            },
            "type": "barpolar"
           }
          ],
          "carpet": [
           {
            "aaxis": {
             "endlinecolor": "#2a3f5f",
             "gridcolor": "white",
             "linecolor": "white",
             "minorgridcolor": "white",
             "startlinecolor": "#2a3f5f"
            },
            "baxis": {
             "endlinecolor": "#2a3f5f",
             "gridcolor": "white",
             "linecolor": "white",
             "minorgridcolor": "white",
             "startlinecolor": "#2a3f5f"
            },
            "type": "carpet"
           }
          ],
          "choropleth": [
           {
            "colorbar": {
             "outlinewidth": 0,
             "ticks": ""
            },
            "type": "choropleth"
           }
          ],
          "contour": [
           {
            "colorbar": {
             "outlinewidth": 0,
             "ticks": ""
            },
            "colorscale": [
             [
              0,
              "#0d0887"
             ],
             [
              0.1111111111111111,
              "#46039f"
             ],
             [
              0.2222222222222222,
              "#7201a8"
             ],
             [
              0.3333333333333333,
              "#9c179e"
             ],
             [
              0.4444444444444444,
              "#bd3786"
             ],
             [
              0.5555555555555556,
              "#d8576b"
             ],
             [
              0.6666666666666666,
              "#ed7953"
             ],
             [
              0.7777777777777778,
              "#fb9f3a"
             ],
             [
              0.8888888888888888,
              "#fdca26"
             ],
             [
              1,
              "#f0f921"
             ]
            ],
            "type": "contour"
           }
          ],
          "contourcarpet": [
           {
            "colorbar": {
             "outlinewidth": 0,
             "ticks": ""
            },
            "type": "contourcarpet"
           }
          ],
          "heatmap": [
           {
            "colorbar": {
             "outlinewidth": 0,
             "ticks": ""
            },
            "colorscale": [
             [
              0,
              "#0d0887"
             ],
             [
              0.1111111111111111,
              "#46039f"
             ],
             [
              0.2222222222222222,
              "#7201a8"
             ],
             [
              0.3333333333333333,
              "#9c179e"
             ],
             [
              0.4444444444444444,
              "#bd3786"
             ],
             [
              0.5555555555555556,
              "#d8576b"
             ],
             [
              0.6666666666666666,
              "#ed7953"
             ],
             [
              0.7777777777777778,
              "#fb9f3a"
             ],
             [
              0.8888888888888888,
              "#fdca26"
             ],
             [
              1,
              "#f0f921"
             ]
            ],
            "type": "heatmap"
           }
          ],
          "heatmapgl": [
           {
            "colorbar": {
             "outlinewidth": 0,
             "ticks": ""
            },
            "colorscale": [
             [
              0,
              "#0d0887"
             ],
             [
              0.1111111111111111,
              "#46039f"
             ],
             [
              0.2222222222222222,
              "#7201a8"
             ],
             [
              0.3333333333333333,
              "#9c179e"
             ],
             [
              0.4444444444444444,
              "#bd3786"
             ],
             [
              0.5555555555555556,
              "#d8576b"
             ],
             [
              0.6666666666666666,
              "#ed7953"
             ],
             [
              0.7777777777777778,
              "#fb9f3a"
             ],
             [
              0.8888888888888888,
              "#fdca26"
             ],
             [
              1,
              "#f0f921"
             ]
            ],
            "type": "heatmapgl"
           }
          ],
          "histogram": [
           {
            "marker": {
             "pattern": {
              "fillmode": "overlay",
              "size": 10,
              "solidity": 0.2
             }
            },
            "type": "histogram"
           }
          ],
          "histogram2d": [
           {
            "colorbar": {
             "outlinewidth": 0,
             "ticks": ""
            },
            "colorscale": [
             [
              0,
              "#0d0887"
             ],
             [
              0.1111111111111111,
              "#46039f"
             ],
             [
              0.2222222222222222,
              "#7201a8"
             ],
             [
              0.3333333333333333,
              "#9c179e"
             ],
             [
              0.4444444444444444,
              "#bd3786"
             ],
             [
              0.5555555555555556,
              "#d8576b"
             ],
             [
              0.6666666666666666,
              "#ed7953"
             ],
             [
              0.7777777777777778,
              "#fb9f3a"
             ],
             [
              0.8888888888888888,
              "#fdca26"
             ],
             [
              1,
              "#f0f921"
             ]
            ],
            "type": "histogram2d"
           }
          ],
          "histogram2dcontour": [
           {
            "colorbar": {
             "outlinewidth": 0,
             "ticks": ""
            },
            "colorscale": [
             [
              0,
              "#0d0887"
             ],
             [
              0.1111111111111111,
              "#46039f"
             ],
             [
              0.2222222222222222,
              "#7201a8"
             ],
             [
              0.3333333333333333,
              "#9c179e"
             ],
             [
              0.4444444444444444,
              "#bd3786"
             ],
             [
              0.5555555555555556,
              "#d8576b"
             ],
             [
              0.6666666666666666,
              "#ed7953"
             ],
             [
              0.7777777777777778,
              "#fb9f3a"
             ],
             [
              0.8888888888888888,
              "#fdca26"
             ],
             [
              1,
              "#f0f921"
             ]
            ],
            "type": "histogram2dcontour"
           }
          ],
          "mesh3d": [
           {
            "colorbar": {
             "outlinewidth": 0,
             "ticks": ""
            },
            "type": "mesh3d"
           }
          ],
          "parcoords": [
           {
            "line": {
             "colorbar": {
              "outlinewidth": 0,
              "ticks": ""
             }
            },
            "type": "parcoords"
           }
          ],
          "pie": [
           {
            "automargin": true,
            "type": "pie"
           }
          ],
          "scatter": [
           {
            "fillpattern": {
             "fillmode": "overlay",
             "size": 10,
             "solidity": 0.2
            },
            "type": "scatter"
           }
          ],
          "scatter3d": [
           {
            "line": {
             "colorbar": {
              "outlinewidth": 0,
              "ticks": ""
             }
            },
            "marker": {
             "colorbar": {
              "outlinewidth": 0,
              "ticks": ""
             }
            },
            "type": "scatter3d"
           }
          ],
          "scattercarpet": [
           {
            "marker": {
             "colorbar": {
              "outlinewidth": 0,
              "ticks": ""
             }
            },
            "type": "scattercarpet"
           }
          ],
          "scattergeo": [
           {
            "marker": {
             "colorbar": {
              "outlinewidth": 0,
              "ticks": ""
             }
            },
            "type": "scattergeo"
           }
          ],
          "scattergl": [
           {
            "marker": {
             "colorbar": {
              "outlinewidth": 0,
              "ticks": ""
             }
            },
            "type": "scattergl"
           }
          ],
          "scattermapbox": [
           {
            "marker": {
             "colorbar": {
              "outlinewidth": 0,
              "ticks": ""
             }
            },
            "type": "scattermapbox"
           }
          ],
          "scatterpolar": [
           {
            "marker": {
             "colorbar": {
              "outlinewidth": 0,
              "ticks": ""
             }
            },
            "type": "scatterpolar"
           }
          ],
          "scatterpolargl": [
           {
            "marker": {
             "colorbar": {
              "outlinewidth": 0,
              "ticks": ""
             }
            },
            "type": "scatterpolargl"
           }
          ],
          "scatterternary": [
           {
            "marker": {
             "colorbar": {
              "outlinewidth": 0,
              "ticks": ""
             }
            },
            "type": "scatterternary"
           }
          ],
          "surface": [
           {
            "colorbar": {
             "outlinewidth": 0,
             "ticks": ""
            },
            "colorscale": [
             [
              0,
              "#0d0887"
             ],
             [
              0.1111111111111111,
              "#46039f"
             ],
             [
              0.2222222222222222,
              "#7201a8"
             ],
             [
              0.3333333333333333,
              "#9c179e"
             ],
             [
              0.4444444444444444,
              "#bd3786"
             ],
             [
              0.5555555555555556,
              "#d8576b"
             ],
             [
              0.6666666666666666,
              "#ed7953"
             ],
             [
              0.7777777777777778,
              "#fb9f3a"
             ],
             [
              0.8888888888888888,
              "#fdca26"
             ],
             [
              1,
              "#f0f921"
             ]
            ],
            "type": "surface"
           }
          ],
          "table": [
           {
            "cells": {
             "fill": {
              "color": "#EBF0F8"
             },
             "line": {
              "color": "white"
             }
            },
            "header": {
             "fill": {
              "color": "#C8D4E3"
             },
             "line": {
              "color": "white"
             }
            },
            "type": "table"
           }
          ]
         },
         "layout": {
          "annotationdefaults": {
           "arrowcolor": "#2a3f5f",
           "arrowhead": 0,
           "arrowwidth": 1
          },
          "autotypenumbers": "strict",
          "coloraxis": {
           "colorbar": {
            "outlinewidth": 0,
            "ticks": ""
           }
          },
          "colorscale": {
           "diverging": [
            [
             0,
             "#8e0152"
            ],
            [
             0.1,
             "#c51b7d"
            ],
            [
             0.2,
             "#de77ae"
            ],
            [
             0.3,
             "#f1b6da"
            ],
            [
             0.4,
             "#fde0ef"
            ],
            [
             0.5,
             "#f7f7f7"
            ],
            [
             0.6,
             "#e6f5d0"
            ],
            [
             0.7,
             "#b8e186"
            ],
            [
             0.8,
             "#7fbc41"
            ],
            [
             0.9,
             "#4d9221"
            ],
            [
             1,
             "#276419"
            ]
           ],
           "sequential": [
            [
             0,
             "#0d0887"
            ],
            [
             0.1111111111111111,
             "#46039f"
            ],
            [
             0.2222222222222222,
             "#7201a8"
            ],
            [
             0.3333333333333333,
             "#9c179e"
            ],
            [
             0.4444444444444444,
             "#bd3786"
            ],
            [
             0.5555555555555556,
             "#d8576b"
            ],
            [
             0.6666666666666666,
             "#ed7953"
            ],
            [
             0.7777777777777778,
             "#fb9f3a"
            ],
            [
             0.8888888888888888,
             "#fdca26"
            ],
            [
             1,
             "#f0f921"
            ]
           ],
           "sequentialminus": [
            [
             0,
             "#0d0887"
            ],
            [
             0.1111111111111111,
             "#46039f"
            ],
            [
             0.2222222222222222,
             "#7201a8"
            ],
            [
             0.3333333333333333,
             "#9c179e"
            ],
            [
             0.4444444444444444,
             "#bd3786"
            ],
            [
             0.5555555555555556,
             "#d8576b"
            ],
            [
             0.6666666666666666,
             "#ed7953"
            ],
            [
             0.7777777777777778,
             "#fb9f3a"
            ],
            [
             0.8888888888888888,
             "#fdca26"
            ],
            [
             1,
             "#f0f921"
            ]
           ]
          },
          "colorway": [
           "#636efa",
           "#EF553B",
           "#00cc96",
           "#ab63fa",
           "#FFA15A",
           "#19d3f3",
           "#FF6692",
           "#B6E880",
           "#FF97FF",
           "#FECB52"
          ],
          "font": {
           "color": "#2a3f5f"
          },
          "geo": {
           "bgcolor": "white",
           "lakecolor": "white",
           "landcolor": "#E5ECF6",
           "showlakes": true,
           "showland": true,
           "subunitcolor": "white"
          },
          "hoverlabel": {
           "align": "left"
          },
          "hovermode": "closest",
          "mapbox": {
           "style": "light"
          },
          "paper_bgcolor": "white",
          "plot_bgcolor": "#E5ECF6",
          "polar": {
           "angularaxis": {
            "gridcolor": "white",
            "linecolor": "white",
            "ticks": ""
           },
           "bgcolor": "#E5ECF6",
           "radialaxis": {
            "gridcolor": "white",
            "linecolor": "white",
            "ticks": ""
           }
          },
          "scene": {
           "xaxis": {
            "backgroundcolor": "#E5ECF6",
            "gridcolor": "white",
            "gridwidth": 2,
            "linecolor": "white",
            "showbackground": true,
            "ticks": "",
            "zerolinecolor": "white"
           },
           "yaxis": {
            "backgroundcolor": "#E5ECF6",
            "gridcolor": "white",
            "gridwidth": 2,
            "linecolor": "white",
            "showbackground": true,
            "ticks": "",
            "zerolinecolor": "white"
           },
           "zaxis": {
            "backgroundcolor": "#E5ECF6",
            "gridcolor": "white",
            "gridwidth": 2,
            "linecolor": "white",
            "showbackground": true,
            "ticks": "",
            "zerolinecolor": "white"
           }
          },
          "shapedefaults": {
           "line": {
            "color": "#2a3f5f"
           }
          },
          "ternary": {
           "aaxis": {
            "gridcolor": "white",
            "linecolor": "white",
            "ticks": ""
           },
           "baxis": {
            "gridcolor": "white",
            "linecolor": "white",
            "ticks": ""
           },
           "bgcolor": "#E5ECF6",
           "caxis": {
            "gridcolor": "white",
            "linecolor": "white",
            "ticks": ""
           }
          },
          "title": {
           "x": 0.05
          },
          "xaxis": {
           "automargin": true,
           "gridcolor": "white",
           "linecolor": "white",
           "ticks": "",
           "title": {
            "standoff": 15
           },
           "zerolinecolor": "white",
           "zerolinewidth": 2
          },
          "yaxis": {
           "automargin": true,
           "gridcolor": "white",
           "linecolor": "white",
           "ticks": "",
           "title": {
            "standoff": 15
           },
           "zerolinecolor": "white",
           "zerolinewidth": 2
          }
         }
        },
        "title": {
         "text": "Scatterplots of Median vs Various Metrics"
        },
        "width": 1000,
        "xaxis": {
         "anchor": "y",
         "domain": [
          0,
          0.2888888888888889
         ]
        },
        "xaxis2": {
         "anchor": "y2",
         "domain": [
          0.35555555555555557,
          0.6444444444444445
         ]
        },
        "xaxis3": {
         "anchor": "y3",
         "domain": [
          0.7111111111111111,
          1
         ]
        },
        "yaxis": {
         "anchor": "x",
         "domain": [
          0,
          1
         ]
        },
        "yaxis2": {
         "anchor": "x2",
         "domain": [
          0,
          1
         ]
        },
        "yaxis3": {
         "anchor": "x3",
         "domain": [
          0,
          1
         ]
        }
       }
      }
     },
     "metadata": {},
     "output_type": "display_data"
    }
   ],
   "source": [
    "import plotly.graph_objs as go\n",
    "from plotly.subplots import make_subplots\n",
    "import numpy as np\n",
    "\n",
    "# Create subplots\n",
    "fig = make_subplots(rows=1, cols=3, subplot_titles=(\"Median vs Count\", \"Median vs Standard Dev.\", \"Median vs Total Volume\"))\n",
    "\n",
    "# Add scatterplot for median vs count\n",
    "scatter1 = go.Scatter(x=data2['median'], y=data2['count'], mode='markers+text', text=data2['brand_title'], name='Median vs Count', customdata=np.stack((data2['brand_title'], data2['std'], data2['sum'], data2['count']), axis = 1))\n",
    "fig.add_trace(scatter1, row=1, col=1)\n",
    "fig.update_traces(\n",
    "    hovertemplate=\"Brand: %{customdata[0]}<br>Median: %{x:,.1f} <br>Count: %{customdata[3]:,.0f}<br>Volume: %{customdata[2]:,.0f}<br>Std Dev: %{customdata[1]:,.0f}\",\n",
    "    \n",
    ")\n",
    "\n",
    "# Add scatterplot for median vs standard deviation\n",
    "scatter2 = go.Scatter(x=data2['median'], y=data2['std'], mode='markers', name='Median vs Standard Dev.', customdata=np.stack((data2['brand_title'], data2['std'], data2['sum'], data2['count']), axis = 1))\n",
    "fig.add_trace(scatter2, row=1, col=2)\n",
    "fig.update_traces(\n",
    "    hovertemplate=\"Brand: %{customdata[0]}<br>Median: %{x:,.1f} <br>Count: %{y:,.0f}<br>Volume: %{customdata[2]:,.0f}<br>Std Dev: %{customdata[1]:,.0f}\",\n",
    "    \n",
    ")\n",
    "\n",
    "# Add scatterplot for median vs total volume\n",
    "scatter3 = go.Scatter(x=data2['median'], y=data2['sum'], mode='markers', name='Median vs Total Volume', customdata=np.stack((data2['brand_title'], data2['std'], data2['sum'], data2['count']), axis = 1))\n",
    "fig.add_trace(scatter3, row=1, col=3)\n",
    "fig.update_traces(\n",
    "    hovertemplate=\"Brand: %{customdata[0]}<br>Median: %{x:,.1f} <br>Count: %{y:,.0f}<br>Volume: %{customdata[2]:,.0f}<br>Std Dev: %{customdata[1]:,.0f}\",\n",
    "    \n",
    ")\n",
    "\n",
    "# Update layout\n",
    "fig.update_layout(title='Scatterplots of Median vs Various Metrics', showlegend=False, height=500, width=1000)\n"
   ]
  },
  {
   "cell_type": "code",
   "execution_count": 101,
   "metadata": {},
   "outputs": [
    {
     "data": {
      "image/png": "[encoded data removed]",
      "text/plain": [
       "<Figure size 800x600 with 1 Axes>"
      ]
     },
     "metadata": {},
     "output_type": "display_data"
    }
   ],
   "source": [
    "pca = PCA(n_components=2)\n",
    "X_2d = pca.fit_transform(data2.drop(\"brand_title\", axis = 1))\n",
    "\n",
    "# Assign cluster labels to the transformed data\n",
    "data_with_labels = pd.DataFrame(X_2d, index=data2.index, columns=['PC1', 'PC2'])\n",
    "\n",
    "# Plot the transformed data with colors based on cluster labels\n",
    "plt.figure(figsize=(8, 6))\n",
    "for cluster_label in data_with_labels.index:\n",
    "    plt.scatter(data_with_labels.loc[data_with_labels.index == cluster_label, 'PC1'],\n",
    "                data_with_labels.loc[data_with_labels.index == cluster_label, 'PC2'],\n",
    "                label=f'Cluster {cluster_label}')\n",
    "plt.title('PCA to 2 Dimensions with Cluster Labels')\n",
    "plt.xlabel('Principal Component 1')\n",
    "plt.ylabel('Principal Component 2')\n",
    "plt.grid(True)"
   ]
  },
  {
   "cell_type": "code",
   "execution_count": 109,
   "metadata": {},
   "outputs": [
    {
     "ename": "ValueError",
     "evalue": "X has 2 features, but OneClassSVM is expecting 4 features as input.",
     "output_type": "error",
     "traceback": [
      "\u001b[1;31m---------------------------------------------------------------------------\u001b[0m",
      "\u001b[1;31mValueError\u001b[0m                                Traceback (most recent call last)",
      "Cell \u001b[1;32mIn[109], line 20\u001b[0m\n\u001b[0;32m     17\u001b[0m X_grid \u001b[38;5;241m=\u001b[39m np\u001b[38;5;241m.\u001b[39mcolumn_stack((median_grid\u001b[38;5;241m.\u001b[39mravel(), count_grid\u001b[38;5;241m.\u001b[39mravel()))\n\u001b[0;32m     19\u001b[0m \u001b[38;5;66;03m# Compute decision function values for each point in the grid\u001b[39;00m\n\u001b[1;32m---> 20\u001b[0m decision_values \u001b[38;5;241m=\u001b[39m \u001b[43msvm_model\u001b[49m\u001b[38;5;241;43m.\u001b[39;49m\u001b[43mdecision_function\u001b[49m\u001b[43m(\u001b[49m\u001b[43mX_grid\u001b[49m\u001b[43m)\u001b[49m\n\u001b[0;32m     21\u001b[0m decision_values_grid \u001b[38;5;241m=\u001b[39m decision_values\u001b[38;5;241m.\u001b[39mreshape(median_grid\u001b[38;5;241m.\u001b[39mshape)\n\u001b[0;32m     23\u001b[0m \u001b[38;5;66;03m# Plot the contour plot with decision boundary\u001b[39;00m\n",
      "File \u001b[1;32mc:\\Users\\Miguel\\AppData\\Local\\Programs\\Python\\Python310\\lib\\site-packages\\sklearn\\svm\\_classes.py:1787\u001b[0m, in \u001b[0;36mOneClassSVM.decision_function\u001b[1;34m(self, X)\u001b[0m\n\u001b[0;32m   1772\u001b[0m \u001b[38;5;28;01mdef\u001b[39;00m \u001b[38;5;21mdecision_function\u001b[39m(\u001b[38;5;28mself\u001b[39m, X):\n\u001b[0;32m   1773\u001b[0m \u001b[38;5;250m    \u001b[39m\u001b[38;5;124;03m\"\"\"Signed distance to the separating hyperplane.\u001b[39;00m\n\u001b[0;32m   1774\u001b[0m \n\u001b[0;32m   1775\u001b[0m \u001b[38;5;124;03m    Signed distance is positive for an inlier and negative for an outlier.\u001b[39;00m\n\u001b[1;32m   (...)\u001b[0m\n\u001b[0;32m   1785\u001b[0m \u001b[38;5;124;03m        Returns the decision function of the samples.\u001b[39;00m\n\u001b[0;32m   1786\u001b[0m \u001b[38;5;124;03m    \"\"\"\u001b[39;00m\n\u001b[1;32m-> 1787\u001b[0m     dec \u001b[38;5;241m=\u001b[39m \u001b[38;5;28;43mself\u001b[39;49m\u001b[38;5;241;43m.\u001b[39;49m\u001b[43m_decision_function\u001b[49m\u001b[43m(\u001b[49m\u001b[43mX\u001b[49m\u001b[43m)\u001b[49m\u001b[38;5;241m.\u001b[39mravel()\n\u001b[0;32m   1788\u001b[0m     \u001b[38;5;28;01mreturn\u001b[39;00m dec\n",
      "File \u001b[1;32mc:\\Users\\Miguel\\AppData\\Local\\Programs\\Python\\Python310\\lib\\site-packages\\sklearn\\svm\\_base.py:529\u001b[0m, in \u001b[0;36mBaseLibSVM._decision_function\u001b[1;34m(self, X)\u001b[0m\n\u001b[0;32m    515\u001b[0m \u001b[38;5;250m\u001b[39m\u001b[38;5;124;03m\"\"\"Evaluates the decision function for the samples in X.\u001b[39;00m\n\u001b[0;32m    516\u001b[0m \n\u001b[0;32m    517\u001b[0m \u001b[38;5;124;03mParameters\u001b[39;00m\n\u001b[1;32m   (...)\u001b[0m\n\u001b[0;32m    525\u001b[0m \u001b[38;5;124;03m    in the model.\u001b[39;00m\n\u001b[0;32m    526\u001b[0m \u001b[38;5;124;03m\"\"\"\u001b[39;00m\n\u001b[0;32m    527\u001b[0m \u001b[38;5;66;03m# NOTE: _validate_for_predict contains check for is_fitted\u001b[39;00m\n\u001b[0;32m    528\u001b[0m \u001b[38;5;66;03m# hence must be placed before any other attributes are used.\u001b[39;00m\n\u001b[1;32m--> 529\u001b[0m X \u001b[38;5;241m=\u001b[39m \u001b[38;5;28;43mself\u001b[39;49m\u001b[38;5;241;43m.\u001b[39;49m\u001b[43m_validate_for_predict\u001b[49m\u001b[43m(\u001b[49m\u001b[43mX\u001b[49m\u001b[43m)\u001b[49m\n\u001b[0;32m    530\u001b[0m X \u001b[38;5;241m=\u001b[39m \u001b[38;5;28mself\u001b[39m\u001b[38;5;241m.\u001b[39m_compute_kernel(X)\n\u001b[0;32m    532\u001b[0m \u001b[38;5;28;01mif\u001b[39;00m \u001b[38;5;28mself\u001b[39m\u001b[38;5;241m.\u001b[39m_sparse:\n",
      "File \u001b[1;32mc:\\Users\\Miguel\\AppData\\Local\\Programs\\Python\\Python310\\lib\\site-packages\\sklearn\\svm\\_base.py:607\u001b[0m, in \u001b[0;36mBaseLibSVM._validate_for_predict\u001b[1;34m(self, X)\u001b[0m\n\u001b[0;32m    604\u001b[0m check_is_fitted(\u001b[38;5;28mself\u001b[39m)\n\u001b[0;32m    606\u001b[0m \u001b[38;5;28;01mif\u001b[39;00m \u001b[38;5;129;01mnot\u001b[39;00m \u001b[38;5;28mcallable\u001b[39m(\u001b[38;5;28mself\u001b[39m\u001b[38;5;241m.\u001b[39mkernel):\n\u001b[1;32m--> 607\u001b[0m     X \u001b[38;5;241m=\u001b[39m \u001b[38;5;28;43mself\u001b[39;49m\u001b[38;5;241;43m.\u001b[39;49m\u001b[43m_validate_data\u001b[49m\u001b[43m(\u001b[49m\n\u001b[0;32m    608\u001b[0m \u001b[43m        \u001b[49m\u001b[43mX\u001b[49m\u001b[43m,\u001b[49m\n\u001b[0;32m    609\u001b[0m \u001b[43m        \u001b[49m\u001b[43maccept_sparse\u001b[49m\u001b[38;5;241;43m=\u001b[39;49m\u001b[38;5;124;43m\"\u001b[39;49m\u001b[38;5;124;43mcsr\u001b[39;49m\u001b[38;5;124;43m\"\u001b[39;49m\u001b[43m,\u001b[49m\n\u001b[0;32m    610\u001b[0m \u001b[43m        \u001b[49m\u001b[43mdtype\u001b[49m\u001b[38;5;241;43m=\u001b[39;49m\u001b[43mnp\u001b[49m\u001b[38;5;241;43m.\u001b[39;49m\u001b[43mfloat64\u001b[49m\u001b[43m,\u001b[49m\n\u001b[0;32m    611\u001b[0m \u001b[43m        \u001b[49m\u001b[43morder\u001b[49m\u001b[38;5;241;43m=\u001b[39;49m\u001b[38;5;124;43m\"\u001b[39;49m\u001b[38;5;124;43mC\u001b[39;49m\u001b[38;5;124;43m\"\u001b[39;49m\u001b[43m,\u001b[49m\n\u001b[0;32m    612\u001b[0m \u001b[43m        \u001b[49m\u001b[43maccept_large_sparse\u001b[49m\u001b[38;5;241;43m=\u001b[39;49m\u001b[38;5;28;43;01mFalse\u001b[39;49;00m\u001b[43m,\u001b[49m\n\u001b[0;32m    613\u001b[0m \u001b[43m        \u001b[49m\u001b[43mreset\u001b[49m\u001b[38;5;241;43m=\u001b[39;49m\u001b[38;5;28;43;01mFalse\u001b[39;49;00m\u001b[43m,\u001b[49m\n\u001b[0;32m    614\u001b[0m \u001b[43m    \u001b[49m\u001b[43m)\u001b[49m\n\u001b[0;32m    616\u001b[0m \u001b[38;5;28;01mif\u001b[39;00m \u001b[38;5;28mself\u001b[39m\u001b[38;5;241m.\u001b[39m_sparse \u001b[38;5;129;01mand\u001b[39;00m \u001b[38;5;129;01mnot\u001b[39;00m sp\u001b[38;5;241m.\u001b[39missparse(X):\n\u001b[0;32m    617\u001b[0m     X \u001b[38;5;241m=\u001b[39m sp\u001b[38;5;241m.\u001b[39mcsr_matrix(X)\n",
      "File \u001b[1;32mc:\\Users\\Miguel\\AppData\\Local\\Programs\\Python\\Python310\\lib\\site-packages\\sklearn\\base.py:654\u001b[0m, in \u001b[0;36mBaseEstimator._validate_data\u001b[1;34m(self, X, y, reset, validate_separately, cast_to_ndarray, **check_params)\u001b[0m\n\u001b[0;32m    651\u001b[0m     out \u001b[38;5;241m=\u001b[39m X, y\n\u001b[0;32m    653\u001b[0m \u001b[38;5;28;01mif\u001b[39;00m \u001b[38;5;129;01mnot\u001b[39;00m no_val_X \u001b[38;5;129;01mand\u001b[39;00m check_params\u001b[38;5;241m.\u001b[39mget(\u001b[38;5;124m\"\u001b[39m\u001b[38;5;124mensure_2d\u001b[39m\u001b[38;5;124m\"\u001b[39m, \u001b[38;5;28;01mTrue\u001b[39;00m):\n\u001b[1;32m--> 654\u001b[0m     \u001b[38;5;28;43mself\u001b[39;49m\u001b[38;5;241;43m.\u001b[39;49m\u001b[43m_check_n_features\u001b[49m\u001b[43m(\u001b[49m\u001b[43mX\u001b[49m\u001b[43m,\u001b[49m\u001b[43m \u001b[49m\u001b[43mreset\u001b[49m\u001b[38;5;241;43m=\u001b[39;49m\u001b[43mreset\u001b[49m\u001b[43m)\u001b[49m\n\u001b[0;32m    656\u001b[0m \u001b[38;5;28;01mreturn\u001b[39;00m out\n",
      "File \u001b[1;32mc:\\Users\\Miguel\\AppData\\Local\\Programs\\Python\\Python310\\lib\\site-packages\\sklearn\\base.py:443\u001b[0m, in \u001b[0;36mBaseEstimator._check_n_features\u001b[1;34m(self, X, reset)\u001b[0m\n\u001b[0;32m    440\u001b[0m     \u001b[38;5;28;01mreturn\u001b[39;00m\n\u001b[0;32m    442\u001b[0m \u001b[38;5;28;01mif\u001b[39;00m n_features \u001b[38;5;241m!=\u001b[39m \u001b[38;5;28mself\u001b[39m\u001b[38;5;241m.\u001b[39mn_features_in_:\n\u001b[1;32m--> 443\u001b[0m     \u001b[38;5;28;01mraise\u001b[39;00m \u001b[38;5;167;01mValueError\u001b[39;00m(\n\u001b[0;32m    444\u001b[0m         \u001b[38;5;124mf\u001b[39m\u001b[38;5;124m\"\u001b[39m\u001b[38;5;124mX has \u001b[39m\u001b[38;5;132;01m{\u001b[39;00mn_features\u001b[38;5;132;01m}\u001b[39;00m\u001b[38;5;124m features, but \u001b[39m\u001b[38;5;132;01m{\u001b[39;00m\u001b[38;5;28mself\u001b[39m\u001b[38;5;241m.\u001b[39m\u001b[38;5;18m__class__\u001b[39m\u001b[38;5;241m.\u001b[39m\u001b[38;5;18m__name__\u001b[39m\u001b[38;5;132;01m}\u001b[39;00m\u001b[38;5;124m \u001b[39m\u001b[38;5;124m\"\u001b[39m\n\u001b[0;32m    445\u001b[0m         \u001b[38;5;124mf\u001b[39m\u001b[38;5;124m\"\u001b[39m\u001b[38;5;124mis expecting \u001b[39m\u001b[38;5;132;01m{\u001b[39;00m\u001b[38;5;28mself\u001b[39m\u001b[38;5;241m.\u001b[39mn_features_in_\u001b[38;5;132;01m}\u001b[39;00m\u001b[38;5;124m features as input.\u001b[39m\u001b[38;5;124m\"\u001b[39m\n\u001b[0;32m    446\u001b[0m     )\n",
      "\u001b[1;31mValueError\u001b[0m: X has 2 features, but OneClassSVM is expecting 4 features as input."
     ]
    }
   ],
   "source": [
    "from sklearn.svm import OneClassSVM\n",
    "\n",
    "# Prepare the data\n",
    "X = data2[['median', 'count', 'std', 'sum']].values\n",
    "\n",
    "# Fit the One-Class SVM model\n",
    "svm_model = OneClassSVM(kernel='rbf', nu=0.1)  # Adjust parameters as needed\n",
    "svm_model.fit(X)\n",
    "\n",
    "# Predict the labels\n",
    "labels = svm_model.predict(X)\n",
    "\n",
    "# Define the range of values for 'median' and 'count'\n",
    "median_range = np.linspace(data2['median'].min(), data2['median'].max(), 100)\n",
    "count_range = np.linspace(data2['count'].min(), data2['count'].max(), 100)\n",
    "std_range = np.linspace(data2['std'].min(), data2['std'].max(), 100)\n",
    "sum_range = np.linspace(data2['sum'].min(), data2['sum'].max(), 100)\n",
    "\n",
    "median_grid, count_grid = np.meshgrid(median_range, count_range)\n",
    "X_grid = np.column_stack((median_grid.ravel(), count_grid.ravel()))\n",
    "\n",
    "# Compute decision function values for each point in the grid\n",
    "decision_values = svm_model.decision_function(X_grid)\n",
    "decision_values_grid = decision_values.reshape(median_grid.shape)\n",
    "\n",
    "# Plot the contour plot with decision boundary\n",
    "plt.figure(figsize=(8, 6))\n",
    "plt.contourf(median_grid, count_grid, decision_values_grid, levels=np.linspace(decision_values.min(), 0, 10), cmap=plt.cm.PuBu)\n",
    "plt.colorbar(label='Decision Function Value')\n",
    "plt.scatter(data2['median'], data2['count'], c=labels, cmap=plt.cm.coolwarm, edgecolors='k')\n",
    "plt.xlabel('Median')\n",
    "plt.ylabel('Count')\n",
    "plt.title('One-Class SVM Decision Boundary')\n",
    "plt.grid(True)"
   ]
  }
 ],
 "metadata": {
  "kernelspec": {
   "display_name": "Python 3",
   "language": "python",
   "name": "python3"
  },
  "language_info": {
   "codemirror_mode": {
    "name": "ipython",
    "version": 3
   },
   "file_extension": ".py",
   "mimetype": "text/x-python",
   "name": "python",
   "nbconvert_exporter": "python",
   "pygments_lexer": "ipython3",
   "version": "3.10.6"
  }
 },
 "nbformat": 4,
 "nbformat_minor": 2
}
