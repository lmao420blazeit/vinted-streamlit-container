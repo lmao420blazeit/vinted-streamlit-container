{
 "cells": [
  {
   "cell_type": "code",
   "execution_count": null,
   "metadata": {},
   "outputs": [],
   "source": [
    "import pandas as pd\n",
    "from sqlalchemy import create_engine\n",
    "import os\n",
    "import json\n",
    "import matplotlib.pyplot as plt\n",
    "from sklearn.decomposition import PCA\n",
    "\n",
    "def load_credentials(path = \"aws_rds_credentials.json\"):\n",
    "     with open(path, 'r') as file:\n",
    "          config = json.load(file)\n",
    "\n",
    "     # set up credentials\n",
    "     for key in config.keys():\n",
    "          os.environ[key] = config[key]\n",
    "\n",
    "     return\n",
    "\n",
    "time_interval = 90 #days\n",
    "\n",
    "load_credentials()\n",
    "\n",
    "aws_rds_url = f\"postgresql://{os.environ['user']}:{os.environ['password']}@{os.environ['host']}:{os.environ['port']}/{os.environ['database']}?sslmode=require\"\n",
    "\n",
    "engine = create_engine(aws_rds_url)\n",
    "sql_query = f\"\"\"SELECT brand_title, price_numeric, status, catalog_id, size_title, color1_id\n",
    "               FROM public.tracking_staging \n",
    "               WHERE date >= CURRENT_DATE - INTERVAL '{time_interval} days'\n",
    "               LIMIT 10000\n",
    "               \"\"\"\n",
    "data = pd.read_sql(sql_query, engine)\n",
    "data"
   ]
  },
  {
   "cell_type": "code",
   "execution_count": 1,
   "metadata": {},
   "outputs": [
    {
     "ename": "NameError",
     "evalue": "name 'data' is not defined",
     "output_type": "error",
     "traceback": [
      "\u001b[1;31m---------------------------------------------------------------------------\u001b[0m",
      "\u001b[1;31mNameError\u001b[0m                                 Traceback (most recent call last)",
      "Cell \u001b[1;32mIn[1], line 2\u001b[0m\n\u001b[0;32m      1\u001b[0m \u001b[38;5;66;03m# using product count as metric\u001b[39;00m\n\u001b[1;32m----> 2\u001b[0m pivot_size \u001b[38;5;241m=\u001b[39m \u001b[43mdata\u001b[49m\u001b[38;5;241m.\u001b[39mpivot_table(values\u001b[38;5;241m=\u001b[39m\u001b[38;5;124m'\u001b[39m\u001b[38;5;124mprice_numeric\u001b[39m\u001b[38;5;124m'\u001b[39m, columns\u001b[38;5;241m=\u001b[39m\u001b[38;5;124m'\u001b[39m\u001b[38;5;124mbrand_title\u001b[39m\u001b[38;5;124m'\u001b[39m, index\u001b[38;5;241m=\u001b[39m\u001b[38;5;124m'\u001b[39m\u001b[38;5;124mcatalog_id\u001b[39m\u001b[38;5;124m'\u001b[39m, aggfunc\u001b[38;5;241m=\u001b[39m\u001b[38;5;124m'\u001b[39m\u001b[38;5;124mcount\u001b[39m\u001b[38;5;124m'\u001b[39m)\n\u001b[0;32m      3\u001b[0m pivot_size\n",
      "\u001b[1;31mNameError\u001b[0m: name 'data' is not defined"
     ]
    }
   ],
   "source": [
    "# using product count as metric\n",
    "pivot_size = data.pivot_table(values='price_numeric', columns='brand_title', index='catalog_id', aggfunc='count')\n",
    "pivot_size"
   ]
  }
 ],
 "metadata": {
  "kernelspec": {
   "display_name": "Python 3",
   "language": "python",
   "name": "python3"
  },
  "language_info": {
   "codemirror_mode": {
    "name": "ipython",
    "version": 3
   },
   "file_extension": ".py",
   "mimetype": "text/x-python",
   "name": "python",
   "nbconvert_exporter": "python",
   "pygments_lexer": "ipython3",
   "version": "3.10.6"
  }
 },
 "nbformat": 4,
 "nbformat_minor": 2
}
