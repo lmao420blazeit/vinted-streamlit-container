{
 "cells": [
  {
   "cell_type": "code",
   "execution_count": 18,
   "metadata": {},
   "outputs": [
    {
     "data": {
      "text/html": [
       "<div>\n",
       "<style scoped>\n",
       "    .dataframe tbody tr th:only-of-type {\n",
       "        vertical-align: middle;\n",
       "    }\n",
       "\n",
       "    .dataframe tbody tr th {\n",
       "        vertical-align: top;\n",
       "    }\n",
       "\n",
       "    .dataframe thead th {\n",
       "        text-align: right;\n",
       "    }\n",
       "</style>\n",
       "<table border=\"1\" class=\"dataframe\">\n",
       "  <thead>\n",
       "    <tr style=\"text-align: right;\">\n",
       "      <th></th>\n",
       "      <th>date</th>\n",
       "      <th>catalog_total_items</th>\n",
       "      <th>catalog_id</th>\n",
       "    </tr>\n",
       "  </thead>\n",
       "  <tbody>\n",
       "    <tr>\n",
       "      <th>0</th>\n",
       "      <td>2024-03-12</td>\n",
       "      <td>5.790910e+05</td>\n",
       "      <td>98</td>\n",
       "    </tr>\n",
       "    <tr>\n",
       "      <th>1</th>\n",
       "      <td>2024-03-12</td>\n",
       "      <td>9.139950e+04</td>\n",
       "      <td>221</td>\n",
       "    </tr>\n",
       "    <tr>\n",
       "      <th>2</th>\n",
       "      <td>2024-03-12</td>\n",
       "      <td>3.038047e+05</td>\n",
       "      <td>246</td>\n",
       "    </tr>\n",
       "    <tr>\n",
       "      <th>3</th>\n",
       "      <td>2024-03-12</td>\n",
       "      <td>1.930322e+06</td>\n",
       "      <td>267</td>\n",
       "    </tr>\n",
       "    <tr>\n",
       "      <th>4</th>\n",
       "      <td>2024-03-12</td>\n",
       "      <td>5.230180e+05</td>\n",
       "      <td>287</td>\n",
       "    </tr>\n",
       "    <tr>\n",
       "      <th>...</th>\n",
       "      <td>...</td>\n",
       "      <td>...</td>\n",
       "      <td>...</td>\n",
       "    </tr>\n",
       "    <tr>\n",
       "      <th>79</th>\n",
       "      <td>2024-03-29</td>\n",
       "      <td>2.204415e+05</td>\n",
       "      <td>1811</td>\n",
       "    </tr>\n",
       "    <tr>\n",
       "      <th>80</th>\n",
       "      <td>2024-03-29</td>\n",
       "      <td>7.057585e+05</td>\n",
       "      <td>1812</td>\n",
       "    </tr>\n",
       "    <tr>\n",
       "      <th>81</th>\n",
       "      <td>2024-03-29</td>\n",
       "      <td>4.640105e+05</td>\n",
       "      <td>1815</td>\n",
       "    </tr>\n",
       "    <tr>\n",
       "      <th>82</th>\n",
       "      <td>2024-03-29</td>\n",
       "      <td>2.614450e+05</td>\n",
       "      <td>2320</td>\n",
       "    </tr>\n",
       "    <tr>\n",
       "      <th>83</th>\n",
       "      <td>2024-03-29</td>\n",
       "      <td>3.590100e+04</td>\n",
       "      <td>2964</td>\n",
       "    </tr>\n",
       "  </tbody>\n",
       "</table>\n",
       "<p>84 rows × 3 columns</p>\n",
       "</div>"
      ],
      "text/plain": [
       "          date  catalog_total_items  catalog_id\n",
       "0   2024-03-12         5.790910e+05          98\n",
       "1   2024-03-12         9.139950e+04         221\n",
       "2   2024-03-12         3.038047e+05         246\n",
       "3   2024-03-12         1.930322e+06         267\n",
       "4   2024-03-12         5.230180e+05         287\n",
       "..         ...                  ...         ...\n",
       "79  2024-03-29         2.204415e+05        1811\n",
       "80  2024-03-29         7.057585e+05        1812\n",
       "81  2024-03-29         4.640105e+05        1815\n",
       "82  2024-03-29         2.614450e+05        2320\n",
       "83  2024-03-29         3.590100e+04        2964\n",
       "\n",
       "[84 rows x 3 columns]"
      ]
     },
     "execution_count": 18,
     "metadata": {},
     "output_type": "execute_result"
    }
   ],
   "source": [
    "import streamlit as st\n",
    "import pandas as pd\n",
    "from sqlalchemy import create_engine\n",
    "import plotly.graph_objects as go\n",
    "import os\n",
    "import json\n",
    "import plotly.express as px\n",
    "import numpy as np\n",
    "\n",
    "def load_credentials(path = \"aws_rds_credentials.json\"):\n",
    "     with open(path, 'r') as file:\n",
    "          config = json.load(file)\n",
    "\n",
    "     # set up credentials\n",
    "     for key in config.keys():\n",
    "          os.environ[key] = config[key]\n",
    "\n",
    "     return\n",
    "\n",
    "\n",
    "load_credentials()\n",
    "\n",
    "aws_rds_url = f\"postgresql://{os.environ['user']}:{os.environ['password']}@{os.environ['host']}:{os.environ['port']}/{os.environ['database']}?sslmode=require\"\n",
    "\n",
    "# Load a sample dataset\n",
    "def load_data():\n",
    "    engine = create_engine(aws_rds_url)\n",
    "    sql_query = f\"\"\"SELECT date, AVG(catalog_total_items) as catalog_total_items, catalog_id\n",
    "                    FROM public.products_catalog\n",
    "                    WHERE date >= CURRENT_DATE - INTERVAL '7 days'\n",
    "                    GROUP BY catalog_id, date\n",
    "                    ORDER BY date ASC\n",
    "                    \"\"\"\n",
    "    df = pd.read_sql(sql_query, engine)\n",
    "    return (df)\n",
    "\n",
    "data = load_data()\n",
    "data"
   ]
  },
  {
   "cell_type": "code",
   "execution_count": 19,
   "metadata": {},
   "outputs": [
    {
     "data": {
      "text/plain": [
       "date                   0\n",
       "catalog_total_items    0\n",
       "catalog_id             0\n",
       "dtype: int64"
      ]
     },
     "execution_count": 19,
     "metadata": {},
     "output_type": "execute_result"
    }
   ],
   "source": [
    "data = data.dropna()\n",
    "data.isna().sum()"
   ]
  },
  {
   "cell_type": "code",
   "execution_count": 20,
   "metadata": {},
   "outputs": [
    {
     "data": {
      "text/html": [
       "<div>\n",
       "<style scoped>\n",
       "    .dataframe tbody tr th:only-of-type {\n",
       "        vertical-align: middle;\n",
       "    }\n",
       "\n",
       "    .dataframe tbody tr th {\n",
       "        vertical-align: top;\n",
       "    }\n",
       "\n",
       "    .dataframe thead th {\n",
       "        text-align: right;\n",
       "    }\n",
       "</style>\n",
       "<table border=\"1\" class=\"dataframe\">\n",
       "  <thead>\n",
       "    <tr style=\"text-align: right;\">\n",
       "      <th></th>\n",
       "      <th>date</th>\n",
       "      <th>catalog_total_items</th>\n",
       "      <th>catalog_id</th>\n",
       "    </tr>\n",
       "  </thead>\n",
       "  <tbody>\n",
       "    <tr>\n",
       "      <th>0</th>\n",
       "      <td>2024-03-12</td>\n",
       "      <td>5.790910e+05</td>\n",
       "      <td>98</td>\n",
       "    </tr>\n",
       "    <tr>\n",
       "      <th>1</th>\n",
       "      <td>2024-03-12</td>\n",
       "      <td>9.139950e+04</td>\n",
       "      <td>221</td>\n",
       "    </tr>\n",
       "    <tr>\n",
       "      <th>2</th>\n",
       "      <td>2024-03-12</td>\n",
       "      <td>3.038047e+05</td>\n",
       "      <td>246</td>\n",
       "    </tr>\n",
       "    <tr>\n",
       "      <th>3</th>\n",
       "      <td>2024-03-12</td>\n",
       "      <td>1.930322e+06</td>\n",
       "      <td>267</td>\n",
       "    </tr>\n",
       "    <tr>\n",
       "      <th>4</th>\n",
       "      <td>2024-03-12</td>\n",
       "      <td>5.230180e+05</td>\n",
       "      <td>287</td>\n",
       "    </tr>\n",
       "    <tr>\n",
       "      <th>...</th>\n",
       "      <td>...</td>\n",
       "      <td>...</td>\n",
       "      <td>...</td>\n",
       "    </tr>\n",
       "    <tr>\n",
       "      <th>79</th>\n",
       "      <td>2024-03-29</td>\n",
       "      <td>2.204415e+05</td>\n",
       "      <td>1811</td>\n",
       "    </tr>\n",
       "    <tr>\n",
       "      <th>80</th>\n",
       "      <td>2024-03-29</td>\n",
       "      <td>7.057585e+05</td>\n",
       "      <td>1812</td>\n",
       "    </tr>\n",
       "    <tr>\n",
       "      <th>81</th>\n",
       "      <td>2024-03-29</td>\n",
       "      <td>4.640105e+05</td>\n",
       "      <td>1815</td>\n",
       "    </tr>\n",
       "    <tr>\n",
       "      <th>82</th>\n",
       "      <td>2024-03-29</td>\n",
       "      <td>2.614450e+05</td>\n",
       "      <td>2320</td>\n",
       "    </tr>\n",
       "    <tr>\n",
       "      <th>83</th>\n",
       "      <td>2024-03-29</td>\n",
       "      <td>3.590100e+04</td>\n",
       "      <td>2964</td>\n",
       "    </tr>\n",
       "  </tbody>\n",
       "</table>\n",
       "<p>84 rows × 3 columns</p>\n",
       "</div>"
      ],
      "text/plain": [
       "          date  catalog_total_items  catalog_id\n",
       "0   2024-03-12         5.790910e+05          98\n",
       "1   2024-03-12         9.139950e+04         221\n",
       "2   2024-03-12         3.038047e+05         246\n",
       "3   2024-03-12         1.930322e+06         267\n",
       "4   2024-03-12         5.230180e+05         287\n",
       "..         ...                  ...         ...\n",
       "79  2024-03-29         2.204415e+05        1811\n",
       "80  2024-03-29         7.057585e+05        1812\n",
       "81  2024-03-29         4.640105e+05        1815\n",
       "82  2024-03-29         2.614450e+05        2320\n",
       "83  2024-03-29         3.590100e+04        2964\n",
       "\n",
       "[84 rows x 3 columns]"
      ]
     },
     "execution_count": 20,
     "metadata": {},
     "output_type": "execute_result"
    }
   ],
   "source": [
    "data = data.drop_duplicates()\n",
    "data"
   ]
  },
  {
   "cell_type": "code",
   "execution_count": 21,
   "metadata": {},
   "outputs": [
    {
     "data": {
      "application/vnd.plotly.v1+json": {
       "config": {
        "plotlyServerURL": "https://plot.ly"
       },
       "data": [
        {
         "mode": "lines",
         "name": "Catalog 98",
         "type": "scatter",
         "x": [
          "2024-03-12",
          "2024-03-22",
          "2024-03-23",
          "2024-03-24",
          "2024-03-25",
          "2024-03-28",
          "2024-03-29"
         ],
         "y": [
          0,
          -539418.375,
          -539389.3403141361,
          -544145.5454545454,
          -538453.6594594595,
          -538567.7142857143,
          -525820
         ]
        },
        {
         "mode": "lines",
         "name": "Catalog 221",
         "type": "scatter",
         "x": [
          "2024-03-12",
          "2024-03-22",
          "2024-03-23",
          "2024-03-24",
          "2024-03-25",
          "2024-03-28",
          "2024-03-29"
         ],
         "y": [
          0,
          29121.75,
          38428.25,
          15402.136363636368,
          63658.31407035177,
          33281.357142857145,
          134709.5
         ]
        },
        {
         "mode": "lines",
         "name": "Catalog 246",
         "type": "scatter",
         "x": [
          "2024-03-12",
          "2024-03-22",
          "2024-03-23",
          "2024-03-24",
          "2024-03-25",
          "2024-03-28",
          "2024-03-29"
         ],
         "y": [
          0,
          684.2631578947185,
          747.410698878346,
          1683.8086124401889,
          1701.1706723455573,
          1299.2631578947185,
          1188.2631578947185
         ]
        },
        {
         "mode": "lines",
         "name": "Catalog 267",
         "type": "scatter",
         "x": [
          "2024-03-12",
          "2024-03-22",
          "2024-03-23",
          "2024-03-24",
          "2024-03-25",
          "2024-03-28",
          "2024-03-29"
         ],
         "y": [
          0,
          -1796024,
          -1785956.8341708542,
          -1833700.8181818181,
          -1782612.7,
          -1800778.5714285714,
          -1703016
         ]
        },
        {
         "mode": "lines",
         "name": "Catalog 287",
         "type": "scatter",
         "x": [
          "2024-03-12",
          "2024-03-22",
          "2024-03-23",
          "2024-03-24",
          "2024-03-25",
          "2024-03-28",
          "2024-03-29"
         ],
         "y": [
          0,
          3101.037974683568,
          2983.893048128346,
          4896.090909090941,
          4687.827956989291,
          5172,
          5113
         ]
        },
        {
         "mode": "lines",
         "name": "Catalog 1242",
         "type": "scatter",
         "x": [
          "2024-03-12",
          "2024-03-22",
          "2024-03-23",
          "2024-03-24",
          "2024-03-25",
          "2024-03-28",
          "2024-03-29"
         ],
         "y": [
          0,
          -1859248,
          -1855670.6733668342,
          -1871991.4545454546,
          -1849365.691919192,
          -1857889.4057971016,
          -1815654.5
         ]
        },
        {
         "mode": "lines",
         "name": "Catalog 1806",
         "type": "scatter",
         "x": [
          "2024-03-12",
          "2024-03-22",
          "2024-03-23",
          "2024-03-24",
          "2024-03-25",
          "2024-03-28",
          "2024-03-29"
         ],
         "y": [
          0,
          -2087522.7658227847,
          -2083861.8128205128,
          -2119844.5366972475,
          -2076625.0858585858,
          -2084878.3333333333,
          -2001915
         ]
        },
        {
         "mode": "lines",
         "name": "Catalog 1811",
         "type": "scatter",
         "x": [
          "2024-03-12",
          "2024-03-22",
          "2024-03-23",
          "2024-03-24",
          "2024-03-25",
          "2024-03-28",
          "2024-03-29"
         ],
         "y": [
          0,
          -1594743,
          -1591306.4210526315,
          -1629686.0550458715,
          -1585077.7916666667,
          -1598649,
          -1504011.5
         ]
        },
        {
         "mode": "lines",
         "name": "Catalog 1812",
         "type": "scatter",
         "x": [
          "2024-03-12",
          "2024-03-22",
          "2024-03-23",
          "2024-03-24",
          "2024-03-25",
          "2024-03-28",
          "2024-03-29"
         ],
         "y": [
          0,
          4406.421052631573,
          4479.124177631573,
          6477.057416267926,
          6458.761834754492,
          6988.508009153302,
          6815.921052631573
         ]
        },
        {
         "mode": "lines",
         "name": "Catalog 1815",
         "type": "scatter",
         "x": [
          "2024-03-12",
          "2024-03-22",
          "2024-03-23",
          "2024-03-24",
          "2024-03-25",
          "2024-03-28",
          "2024-03-29"
         ],
         "y": [
          0,
          910,
          935.7108433734975,
          1732.727272727294,
          1589.061728395056,
          1371.2711864406592,
          1261.4615384615608
         ]
        },
        {
         "mode": "lines",
         "name": "Catalog 2320",
         "type": "scatter",
         "x": [
          "2024-03-12",
          "2024-03-22",
          "2024-03-23",
          "2024-03-24",
          "2024-03-25",
          "2024-03-28",
          "2024-03-29"
         ],
         "y": [
          0,
          -7435124.25,
          -7423235.3,
          -7464025.454545454,
          -7405993.65,
          -7428506.714285715,
          -7316192
         ]
        },
        {
         "mode": "lines",
         "name": "Catalog 2964",
         "type": "scatter",
         "x": [
          "2024-03-12",
          "2024-03-22",
          "2024-03-23",
          "2024-03-24",
          "2024-03-25",
          "2024-03-28",
          "2024-03-29"
         ],
         "y": [
          0,
          4653.565789473687,
          4851.95945945946,
          5749.136363636368,
          6047.664473684214,
          7208.333333333336,
          7244.5
         ]
        }
       ],
       "layout": {
        "template": {
         "data": {
          "candlestick": [
           {
            "decreasing": {
             "line": {
              "color": "#000033"
             }
            },
            "increasing": {
             "line": {
              "color": "#000032"
             }
            },
            "type": "candlestick"
           }
          ],
          "contour": [
           {
            "colorscale": [
             [
              0,
              "#000011"
             ],
             [
              0.1111111111111111,
              "#000012"
             ],
             [
              0.2222222222222222,
              "#000013"
             ],
             [
              0.3333333333333333,
              "#000014"
             ],
             [
              0.4444444444444444,
              "#000015"
             ],
             [
              0.5555555555555556,
              "#000016"
             ],
             [
              0.6666666666666666,
              "#000017"
             ],
             [
              0.7777777777777778,
              "#000018"
             ],
             [
              0.8888888888888888,
              "#000019"
             ],
             [
              1,
              "#000020"
             ]
            ],
            "type": "contour"
           }
          ],
          "contourcarpet": [
           {
            "colorscale": [
             [
              0,
              "#000011"
             ],
             [
              0.1111111111111111,
              "#000012"
             ],
             [
              0.2222222222222222,
              "#000013"
             ],
             [
              0.3333333333333333,
              "#000014"
             ],
             [
              0.4444444444444444,
              "#000015"
             ],
             [
              0.5555555555555556,
              "#000016"
             ],
             [
              0.6666666666666666,
              "#000017"
             ],
             [
              0.7777777777777778,
              "#000018"
             ],
             [
              0.8888888888888888,
              "#000019"
             ],
             [
              1,
              "#000020"
             ]
            ],
            "type": "contourcarpet"
           }
          ],
          "heatmap": [
           {
            "colorscale": [
             [
              0,
              "#000011"
             ],
             [
              0.1111111111111111,
              "#000012"
             ],
             [
              0.2222222222222222,
              "#000013"
             ],
             [
              0.3333333333333333,
              "#000014"
             ],
             [
              0.4444444444444444,
              "#000015"
             ],
             [
              0.5555555555555556,
              "#000016"
             ],
             [
              0.6666666666666666,
              "#000017"
             ],
             [
              0.7777777777777778,
              "#000018"
             ],
             [
              0.8888888888888888,
              "#000019"
             ],
             [
              1,
              "#000020"
             ]
            ],
            "type": "heatmap"
           }
          ],
          "histogram2d": [
           {
            "colorscale": [
             [
              0,
              "#000011"
             ],
             [
              0.1111111111111111,
              "#000012"
             ],
             [
              0.2222222222222222,
              "#000013"
             ],
             [
              0.3333333333333333,
              "#000014"
             ],
             [
              0.4444444444444444,
              "#000015"
             ],
             [
              0.5555555555555556,
              "#000016"
             ],
             [
              0.6666666666666666,
              "#000017"
             ],
             [
              0.7777777777777778,
              "#000018"
             ],
             [
              0.8888888888888888,
              "#000019"
             ],
             [
              1,
              "#000020"
             ]
            ],
            "type": "histogram2d"
           }
          ],
          "icicle": [
           {
            "textfont": {
             "color": "white"
            },
            "type": "icicle"
           }
          ],
          "sankey": [
           {
            "textfont": {
             "color": "#000036"
            },
            "type": "sankey"
           }
          ],
          "scatter": [
           {
            "marker": {
             "line": {
              "width": 0
             }
            },
            "type": "scatter"
           }
          ],
          "table": [
           {
            "cells": {
             "fill": {
              "color": "#000038"
             },
             "font": {
              "color": "#000037"
             },
             "line": {
              "color": "#000039"
             }
            },
            "header": {
             "fill": {
              "color": "#000040"
             },
             "font": {
              "color": "#000036"
             },
             "line": {
              "color": "#000039"
             }
            },
            "type": "table"
           }
          ],
          "waterfall": [
           {
            "connector": {
             "line": {
              "color": "#000036",
              "width": 2
             }
            },
            "decreasing": {
             "marker": {
              "color": "#000033"
             }
            },
            "increasing": {
             "marker": {
              "color": "#000032"
             }
            },
            "totals": {
             "marker": {
              "color": "#000034"
             }
            },
            "type": "waterfall"
           }
          ]
         },
         "layout": {
          "coloraxis": {
           "colorscale": [
            [
             0,
             "#000011"
            ],
            [
             0.1111111111111111,
             "#000012"
            ],
            [
             0.2222222222222222,
             "#000013"
            ],
            [
             0.3333333333333333,
             "#000014"
            ],
            [
             0.4444444444444444,
             "#000015"
            ],
            [
             0.5555555555555556,
             "#000016"
            ],
            [
             0.6666666666666666,
             "#000017"
            ],
            [
             0.7777777777777778,
             "#000018"
            ],
            [
             0.8888888888888888,
             "#000019"
            ],
            [
             1,
             "#000020"
            ]
           ]
          },
          "colorscale": {
           "diverging": [
            [
             0,
             "#000021"
            ],
            [
             0.1,
             "#000022"
            ],
            [
             0.2,
             "#000023"
            ],
            [
             0.3,
             "#000024"
            ],
            [
             0.4,
             "#000025"
            ],
            [
             0.5,
             "#000026"
            ],
            [
             0.6,
             "#000027"
            ],
            [
             0.7,
             "#000028"
            ],
            [
             0.8,
             "#000029"
            ],
            [
             0.9,
             "#000030"
            ],
            [
             1,
             "#000031"
            ]
           ],
           "sequential": [
            [
             0,
             "#000011"
            ],
            [
             0.1111111111111111,
             "#000012"
            ],
            [
             0.2222222222222222,
             "#000013"
            ],
            [
             0.3333333333333333,
             "#000014"
            ],
            [
             0.4444444444444444,
             "#000015"
            ],
            [
             0.5555555555555556,
             "#000016"
            ],
            [
             0.6666666666666666,
             "#000017"
            ],
            [
             0.7777777777777778,
             "#000018"
            ],
            [
             0.8888888888888888,
             "#000019"
            ],
            [
             1,
             "#000020"
            ]
           ],
           "sequentialminus": [
            [
             0,
             "#000011"
            ],
            [
             0.1111111111111111,
             "#000012"
            ],
            [
             0.2222222222222222,
             "#000013"
            ],
            [
             0.3333333333333333,
             "#000014"
            ],
            [
             0.4444444444444444,
             "#000015"
            ],
            [
             0.5555555555555556,
             "#000016"
            ],
            [
             0.6666666666666666,
             "#000017"
            ],
            [
             0.7777777777777778,
             "#000018"
            ],
            [
             0.8888888888888888,
             "#000019"
            ],
            [
             1,
             "#000020"
            ]
           ]
          },
          "colorway": [
           "#000001",
           "#000002",
           "#000003",
           "#000004",
           "#000005",
           "#000006",
           "#000007",
           "#000008",
           "#000009",
           "#000010"
          ]
         }
        },
        "title": {
         "text": "Catalog Total Items Over Time"
        },
        "xaxis": {
         "title": {
          "text": "Date"
         }
        },
        "yaxis": {
         "title": {
          "text": "Total Items"
         }
        }
       }
      }
     },
     "metadata": {},
     "output_type": "display_data"
    }
   ],
   "source": [
    "import plotly.graph_objs as go\n",
    "\n",
    "# Get unique catalog_ids\n",
    "unique_catalog_ids = data['catalog_id'].unique()\n",
    "\n",
    "# Create a line graph\n",
    "fig = go.Figure()\n",
    "\n",
    "data['items_diff'] = data['catalog_total_items'] - data.groupby('catalog_id')['catalog_total_items'].transform('first')\n",
    "\n",
    "# Loop through each unique catalog_id and add a trace for each one\n",
    "for catalog_id in unique_catalog_ids:\n",
    "    catalog_data = data[data['catalog_id'] == catalog_id]\n",
    "    if catalog_data.size > 10:\n",
    "        fig.add_trace(go.Scatter(x=catalog_data['date'], y=catalog_data['items_diff'], mode='lines', name=f'Catalog {catalog_id}'))\n",
    "\n",
    "# Update layout\n",
    "fig.update_layout(title='Catalog Total Items Over Time',\n",
    "                  xaxis_title='Date',\n",
    "                  yaxis_title='Total Items')\n",
    "\n"
   ]
  }
 ],
 "metadata": {
  "kernelspec": {
   "display_name": "Python 3",
   "language": "python",
   "name": "python3"
  },
  "language_info": {
   "codemirror_mode": {
    "name": "ipython",
    "version": 3
   },
   "file_extension": ".py",
   "mimetype": "text/x-python",
   "name": "python",
   "nbconvert_exporter": "python",
   "pygments_lexer": "ipython3",
   "version": "3.10.6"
  }
 },
 "nbformat": 4,
 "nbformat_minor": 2
}
