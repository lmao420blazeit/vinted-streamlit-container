{
 "cells": [
  {
   "cell_type": "code",
   "execution_count": null,
   "metadata": {},
   "outputs": [],
   "source": [
    "import pandas as pd\n",
    "from sqlalchemy import create_engine\n",
    "import os\n",
    "import json\n",
    "import matplotlib.pyplot as plt\n",
    "from sklearn.decomposition import PCA\n",
    "\n",
    "def load_credentials(path = \"aws_rds_credentials.json\"):\n",
    "     with open(path, 'r') as file:\n",
    "          config = json.load(file)\n",
    "\n",
    "     # set up credentials\n",
    "     for key in config.keys():\n",
    "          os.environ[key] = config[key]\n",
    "\n",
    "     return\n",
    "\n",
    "time_interval = 90 #days\n",
    "\n",
    "load_credentials()\n",
    "\n",
    "aws_rds_url = f\"postgresql://{os.environ['user']}:{os.environ['password']}@{os.environ['host']}:{os.environ['port']}/{os.environ['database']}?sslmode=require\"\n",
    "\n",
    "engine = create_engine(aws_rds_url)\n",
    "sql_query = f\"\"\"SELECT brand_title, price_numeric, status, catalog_id, size_title, color1_id\n",
    "               FROM public.tracking_staging \n",
    "               WHERE date >= CURRENT_DATE - INTERVAL '{time_interval} days'\n",
    "               \"\"\"\n",
    "data = pd.read_sql(sql_query, engine)\n",
    "data"
   ]
  },
  {
   "cell_type": "code",
   "execution_count": null,
   "metadata": {},
   "outputs": [],
   "source": [
    "# inputs: count products, median price, std dev price, nunique catalog_id, ununique color1_id, ununique size_title\n",
    "# Group by brand_title and calculate various statistics\n",
    "catalog_stats = data.groupby('catalog_id').agg({\n",
    "    'price_numeric': ['count', 'median', 'std'],\n",
    "    'catalog_id': 'nunique',\n",
    "    'color1_id': 'nunique',\n",
    "    'size_title': 'nunique'\n",
    "})\n",
    "\n",
    "# Rename columns for clarity\n",
    "catalog_stats.columns = ['product_count', 'price_median', 'price_std', 'catalog_id_unique', 'color1_id_unique', 'size_title_unique']\n",
    "\n",
    "catalog_stats = catalog_stats[catalog_stats[\"product_count\"] > 300]\n",
    "catalog_stats"
   ]
  },
  {
   "cell_type": "code",
   "execution_count": null,
   "metadata": {},
   "outputs": [],
   "source": [
    "pca = PCA(n_components=2)\n",
    "X_2d = pca.fit_transform(catalog_stats)\n",
    "\n",
    "# Assign cluster labels to the transformed data\n",
    "data_with_labels = pd.DataFrame(X_2d, index=catalog_stats.index, columns=['PC1', 'PC2'])\n",
    "\n",
    "# Plot the transformed data with colors based on cluster labels\n",
    "plt.figure(figsize=(8, 6))\n",
    "for cluster_label in data_with_labels.index:\n",
    "    plt.scatter(data_with_labels.loc[data_with_labels.index == cluster_label, 'PC1'],\n",
    "                data_with_labels.loc[data_with_labels.index == cluster_label, 'PC2'],\n",
    "                label=f'Cluster {cluster_label}')\n",
    "plt.title('PCA to 2 Dimensions with Cluster Labels')\n",
    "plt.xlabel('Principal Component 1')\n",
    "plt.ylabel('Principal Component 2')\n",
    "plt.grid(True)"
   ]
  }
 ],
 "metadata": {
  "language_info": {
   "name": "python"
  }
 },
 "nbformat": 4,
 "nbformat_minor": 2
}
